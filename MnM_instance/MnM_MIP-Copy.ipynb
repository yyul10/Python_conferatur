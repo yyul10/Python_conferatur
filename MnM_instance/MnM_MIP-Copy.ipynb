{
  "cells": [
    {
      "metadata": {},
      "cell_type": "markdown",
      "source": "# Mixed Integer Programming(MIP) for the instance  'Meal Planning for the New Millennium'(MnM)"
    },
    {
      "metadata": {},
      "cell_type": "markdown",
      "source": "## Download the library \nFirst install [DOcplex](https://cdn.rawgit.com/IBMDecisionOptimization/docplex-doc/2.0.15/docs/index.html) Python library if needed. Consider the scale for this problem, [CPLEX](https://www.ibm.com/analytics/cplex-optimizer) or [DOcplexcloud](https://developer.ibm.com/docloud) is needed. "
    },
    {
      "metadata": {
        "trusted": false
      },
      "cell_type": "code",
      "source": "import sys\ntry:\n    import docplex.mp\nexcept:\n    if hasattr(sys, 'real_prefix'):\n        #we are in a virtual env.\n        !pip install docplex\n    else:\n        !pip install --user docplex",
      "execution_count": 1,
      "outputs": []
    },
    {
      "metadata": {},
      "cell_type": "markdown",
      "source": "Set up the prescriptive engine\n\nSubscribe to DOcplexcloudor Decision Optimization on Cloud solve service here if you do not want to use a local solver.\nGet the service URL and your personal API key and enter your credentials here if accurate:"
    },
    {
      "metadata": {
        "trusted": false
      },
      "cell_type": "code",
      "source": "# url = None\n# key = None",
      "execution_count": null,
      "outputs": []
    },
    {
      "metadata": {},
      "cell_type": "markdown",
      "source": "## Create a model instance"
    },
    {
      "metadata": {
        "trusted": false
      },
      "cell_type": "code",
      "source": "from docplex.mp.model import Model\n\nMnM = Model(name='Meal Planning for the New Millennium')",
      "execution_count": 2,
      "outputs": []
    },
    {
      "metadata": {},
      "cell_type": "markdown",
      "source": "The model for this instance is describe below\n<p>\n<ul>\n<img src = \"https://i.imgur.com/xB0qG3N.png\" width=\"50%\" height=\"50%\" >\n<img src = \"https://i.imgur.com/loWaatP.png\" >\n</ul> \n"
    },
    {
      "metadata": {},
      "cell_type": "markdown",
      "source": "## Define the variables"
    },
    {
      "metadata": {
        "trusted": false
      },
      "cell_type": "code",
      "source": "# x, y, z are binary variable\nx = {(i): MnM.binary_var(name='x_{0}_{1}_{2}'.format(i,t,k)) for i in range(2) for t in range(5) for k in range()}\n",
      "execution_count": 3,
      "outputs": []
    },
    {
      "metadata": {
        "trusted": false
      },
      "cell_type": "code",
      "source": "# for limit the size of nutrient, cooking time, expence\nw = MnM.continuous_var(name='w', lb=0)",
      "execution_count": 4,
      "outputs": []
    },
    {
      "metadata": {},
      "cell_type": "markdown",
      "source": "## Define the parameters"
    },
    {
      "metadata": {
        "trusted": false
      },
      "cell_type": "code",
      "source": "# recipe matrix \nrating = [4.38, 4.38, 4.38, 5.0, 4.38, 4.38, 3.8, 4.38, 4.38, 3.13, 3.75, 4.38, 4.38, 4.38, 3.75, 3.13, 3.75, 4.38, 5.0 , 4.38, 3.75]\ncalories = [1172, 298, 682, 517, 856, 599 , 67, 746, 354, 352 ,  658 ,  426 ,  414 ,  745, 689 ,  352 ,  250 ,  463 ,  347 ,  333 ,  695]\nprotein = [ 54 ,   6  ,   36  ,    7  ,   45  ,   48  ,    2 ,   118  ,   16 ,   16 ,   7 ,   9,   5 ,   41,  85 ,   6 ,  33 ,   5 ,   3 ,  12 ,   29]\nfat = [73  ,  12  ,   57 ,  18  , 54  ,  28 ,   4 ,  21 ,   22 ,  31 ,  39 ,   28 ,   37 ,   60, 34 ,   4 ,  11 ,  21 ,    7 ,   26 ,   45]\nsodium = [220  ,  199  ,  909 ,   20  , 1797 , 1038 ,    66, 483, 930 ,  488 ,  209 ,   408,   310 ,  1146, 723 , 139 ,  123 , 150 ,   89 ,   693 ,  1251]\nprice = [9.38, 11.97 , 7.26 ,4.97 , 11.75 , 7.99 , 5.01,14.87 ,10.28 , 4.38, 9.38 ,  8.14 ,  5.32, 11.37,10.23, 7.64 , 9.45 , 6.76, 4.27 ,12.87 ,3.99]\np_times = [120,30 , 60 ,42, 84, 54,36,150,102, 30,78,90,30,120,90, 60,108,90,30,120 ,60]\nremaintime_y =[70,50,100,100,120]\nremaintime_z=[150,120,100,80,80]\n\n# lower(1) and upper(2) bound of nutrient\nc_bound=[2700, 3600]\np_bound= [ 140 ,200]\nf_bound=[150 , 250]\ns_bound= [2400 ,3000]\ne_bound= 25\n\n# parameter for objective\nbeta = [1 ,1 , 1 , 1]\ngamma = 0.1\nalpha = 0.1",
      "execution_count": 5,
      "outputs": []
    },
    {
      "metadata": {},
      "cell_type": "markdown",
      "source": "## Define the constraints"
    },
    {
      "metadata": {
        "trusted": false
      },
      "cell_type": "code",
      "source": "# five meals constrain\nMnM.add_constraint(MnM.sum(x[i] for i in range(21)) - 5 == 0, ctname = 'subject to five_meals_total')\nMnM.add_constraint(MnM.sum(y) <= 5)\nMnM.add_constraint(MnM.sum(z) <= 5)\n\n# nutrition lower bound\nMnM.add_constraint(MnM.sum(calories[i]*x[i] for i in range(21)) >= c_bound[0])\nMnM.add_constraint(MnM.sum(protein[i]*x[i] for i in range(21)) >= p_bound[0])\nMnM.add_constraint(MnM.sum(fat[i]*x[i] for i in range(21)) >= f_bound[0])\nMnM.add_constraint(MnM.sum(sodium[i]*x[i] for i in range(21)) >= s_bound[0])\n\n# nutrition/price upper bound\nMnM.add_constraint(MnM.sum(calories[i]*x[i] for i in range(21)) - c_bound[1] == fplus[0] - fminus[0])\nMnM.add_constraint(MnM.sum(protein[i]*x[i] for i in range(21)) - p_bound[1] == fplus[1] - fminus[1])\nMnM.add_constraint(MnM.sum(fat[i]*x[i] for i in range(21)) - f_bound[1] == fplus[2] - fminus[2])\nMnM.add_constraint(MnM.sum(sodium[i]*x[i] for i in range(21)) - s_bound[1] == fplus[3] - fminus[3])\nMnM.add_constraint(MnM.sum(price[i]*x[i] for i in range(21)) - e_bound == eplus - eminus)\n\n# number of cooking constraint\nMnM.add_constraint(MnM.sum(y) + MnM.sum(z) - MnM.sum(x) == 0)\n\n        \n# schedule time constraint\nMnM.add_constraint(MnM.sum(p_times[i]* (y[i,j] - z[i,j]) for i in range(21) for j in range(5)) <= w)\nMnM.add_constraint(MnM.sum(p_times[i]* (z[i,j] - y[i,j]) for i in range(21) for j in range(5)) <= w)\n\n        \n# schedule date constraint\nfor j in range(5):\n    MnM.add_constraint(MnM.sum(y[i,j] for i in range(21)) <= 1)\n    MnM.add_constraint(MnM.sum(z[i,j] for i in range(21)) <= 1)\n    \n# cooking time constraint\nfor j in range(5):\n    MnM.add_constraint(MnM.sum(p_times[i]*y[i,j] for i in range(21)) <= remaintime_y[j])\n    MnM.add_constraint(MnM.sum(p_times[i]*z[i,j] for i in range(21)) <= remaintime_z[j])  \n    \n# not repeat constraint\nfor i in range(21):\n    MnM.add_constraint(MnM.sum(y[i,j] + z[i,j] for j in range(5)) <= 1)\n    \n# assignment constraints\nfor i in range(21):\n    MnM.add_constraint(MnM.sum(y[i,j] + z[i,j] for j in range(5)) == x[i])\n",
      "execution_count": 6,
      "outputs": []
    },
    {
      "metadata": {},
      "cell_type": "markdown",
      "source": "## Define the objective function"
    },
    {
      "metadata": {
        "trusted": false
      },
      "cell_type": "code",
      "source": "MnM.maximize(MnM.sum(rating[i]*x[i] for i in range(21)) - MnM.sum(beta[i]*fplus[i] for i in range(4)) - gamma*eplus*eplus - alpha*w)",
      "execution_count": 7,
      "outputs": []
    },
    {
      "metadata": {},
      "cell_type": "markdown",
      "source": "## Solve the problem"
    },
    {
      "metadata": {
        "trusted": false
      },
      "cell_type": "code",
      "source": "MnM.print_information()",
      "execution_count": 8,
      "outputs": [
        {
          "name": "stdout",
          "output_type": "stream",
          "text": "Model: Meal Planning for the New Millennium\n - number of variables: 242\n   - binary=231, integer=0, continuous=11\n - number of constraints: 77\n   - linear=77\n - parameters: defaults\n"
        }
      ]
    },
    {
      "metadata": {
        "trusted": false
      },
      "cell_type": "code",
      "source": "MnMs= MnM.solve(log_output=True)\nassert MnMs\nMnM.print_solution()",
      "execution_count": 9,
      "outputs": [
        {
          "name": "stdout",
          "output_type": "stream",
          "text": "CPXPARAM_Read_DataCheck                          1\nTried aggregator 2 times.\nMIQP Presolve eliminated 33 rows and 71 columns.\nMIQP Presolve modified 285 coefficients.\nAggregator did 1 substitutions.\nReduced MIQP has 43 rows, 170 columns, and 946 nonzeros.\nReduced MIQP has 164 binaries, 0 generals, 0 SOSs, and 0 indicators.\nReduced MIQP objective Q matrix has 1 nonzeros.\nPresolve time = 0.01 sec. (1.74 ticks)\nProbing time = 0.00 sec. (0.41 ticks)\nTried aggregator 1 time.\nReduced MIQP has 43 rows, 170 columns, and 946 nonzeros.\nReduced MIQP has 164 binaries, 0 generals, 0 SOSs, and 0 indicators.\nReduced MIQP objective Q matrix has 1 nonzeros.\nPresolve time = 0.00 sec. (0.48 ticks)\nProbing time = 0.00 sec. (0.41 ticks)\nClique table members: 30.\nMIP emphasis: balance optimality and feasibility.\nMIP search method: dynamic search.\nParallel mode: deterministic, using up to 8 threads.\nRoot relaxation solution time = 0.01 sec. (1.34 ticks)\n\n        Nodes                                         Cuts/\n   Node  Left     Objective  IInf  Best Integer    Best Bound    ItCnt     Gap\n\n      0     0       20.1469    13                     20.1469       11         \n*     0+    0                          -52.5804       20.1469           138.32%\n      0     0       19.8244    13      -52.5804      Cuts: 11       33  137.70%\n*     0+    0                           10.8082       19.8244            83.42%\n      0     0       19.4676    15       10.8082       Cuts: 5       52   80.12%\n*     0+    0                           17.5740       19.4676            10.78%\n*     0+    0                           18.7740       19.4676             3.69%\n\nRepeating presolve.\nTried aggregator 1 time.\nMIQP Presolve eliminated 11 rows and 83 columns.\nMIQP Presolve modified 25 coefficients.\nReduced MIQP has 32 rows, 87 columns, and 477 nonzeros.\nReduced MIQP has 85 binaries, 1 generals, 0 SOSs, and 0 indicators.\nReduced MIQP objective Q matrix has 1 nonzeros.\nPresolve time = 0.01 sec. (0.51 ticks)\nProbing time = 0.00 sec. (0.16 ticks)\nTried aggregator 1 time.\nReduced MIQP has 32 rows, 87 columns, and 477 nonzeros.\nReduced MIQP has 85 binaries, 1 generals, 0 SOSs, and 0 indicators.\nReduced MIQP objective Q matrix has 1 nonzeros.\nPresolve time = 0.00 sec. (0.26 ticks)\nRepresolve time = 0.01 sec. (1.27 ticks)\nProbing time = 0.00 sec. (0.16 ticks)\nClique table members: 20.\nMIP emphasis: balance optimality and feasibility.\nMIP search method: dynamic search.\nParallel mode: deterministic, using up to 8 threads.\nRoot relaxation solution time = 0.01 sec. (0.95 ticks)\n\n        Nodes                                         Cuts/\n   Node  Left     Objective  IInf  Best Integer    Best Bound    ItCnt     Gap\n\n*     0+    0                           18.7740       19.3757             3.21%\n      0     0       19.4676    11       18.7740       19.3757       63    3.21%\n      0     0       19.4642    12       18.7740       Cuts: 9       73    3.21%\n      0     0       19.4308    20       18.7740       Cuts: 7      107    3.21%\n      0     0       19.4091    22       18.7740       Cuts: 4      121    3.21%\n      0     0       19.3831    21       18.7740       Cuts: 5      145    3.21%\n      0     0       19.3133    22       18.7740       Cuts: 4      179    2.87%\n      0     0       19.2532    22       18.7740       Cuts: 6      201    2.55%\n      0     0       19.2425    19       18.7740       Cuts: 7      208    2.50%\n      0     0       19.2118    22       18.7740       Cuts: 2      215    2.33%\n      0     0       19.1740     4       18.7740       Cuts: 3      216    2.13%\n      0     0       19.1740    12       18.7740       Cuts: 8      232    2.13%\n      0     2       19.1740    12       18.7740       19.1740      232    2.13%\nElapsed time = 0.22 sec. (22.10 ticks, tree = 0.01 MB, solutions = 4)\n\nGUB cover cuts applied:  3\nCover cuts applied:  14\nFlow cuts applied:  1\nMixed integer rounding cuts applied:  2\nZero-half cuts applied:  10\n\nRoot node processing (before b&c):\n  Real time             =    0.22 sec. (21.98 ticks)\nParallel b&c, 8 threads:\n  Real time             =    0.07 sec. (13.54 ticks)\n  Sync time (average)   =    0.05 sec.\n  Wait time (average)   =    0.00 sec.\n                          ------------\nTotal (root+branch&cut) =    0.29 sec. (35.52 ticks)\nobjective: 18.774\n  x_0=1\n  x_3=1\n  x_5=1\n  x_18=1\n  x_20=1\n  y_3_4=1\n  y_5_0=1\n  y_20_3=1\n  z_0_0=1\n  z_18_4=1\n  fminus_0=270.000\n  fminus_1=59.000\n  fminus_2=79.000\n  fminus_3=382.000\n  eplus=5.600\n  w=6.000\n"
        }
      ]
    },
    {
      "metadata": {
        "trusted": false
      },
      "cell_type": "code",
      "source": "",
      "execution_count": null,
      "outputs": []
    },
    {
      "metadata": {
        "trusted": false
      },
      "cell_type": "code",
      "source": "",
      "execution_count": null,
      "outputs": []
    }
  ],
  "metadata": {
    "kernelspec": {
      "name": "python36",
      "display_name": "Python 3.6",
      "language": "python"
    },
    "language_info": {
      "mimetype": "text/x-python",
      "nbconvert_exporter": "python",
      "name": "python",
      "pygments_lexer": "ipython3",
      "version": "3.6.6",
      "file_extension": ".py",
      "codemirror_mode": {
        "version": 3,
        "name": "ipython"
      }
    },
    "toc": {
      "base_numbering": 1,
      "nav_menu": {},
      "number_sections": true,
      "sideBar": true,
      "skip_h1_title": false,
      "title_cell": "Table of Contents",
      "title_sidebar": "Contents",
      "toc_cell": false,
      "toc_position": {},
      "toc_section_display": true,
      "toc_window_display": false
    }
  },
  "nbformat": 4,
  "nbformat_minor": 2
}