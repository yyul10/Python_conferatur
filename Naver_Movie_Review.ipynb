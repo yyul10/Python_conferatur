{
 "cells": [
  {
   "cell_type": "code",
   "execution_count": 1,
   "metadata": {},
   "outputs": [],
   "source": [
    "import requests\n",
    "from bs4 import BeautifulSoup\n",
    "import re\n",
    "import ast\n",
    "\n",
    "base_url = 'https://movie.naver.com/movie/bi/mi/point.nhn?code='\n",
    "base_iframe_url = 'https://movie.naver.com'\n",
    "# https://movie.naver.com/movie/bi/mi/point.nhn?code=18906 -> 리뷰없음\n",
    "# https://movie.naver.com/movie/bi/mi/point.nhn?code=60503 -> 영화없음"
   ]
  },
  {
   "cell_type": "code",
   "execution_count": 18,
   "metadata": {},
   "outputs": [
    {
     "name": "stdout",
     "output_type": "stream",
     "text": [
      "https://movie.naver.com/movie/bi/mi/point.nhn?code=69900\n",
      "https://movie.naver.com/movie/bi/mi/point.nhn?code=69901\n",
      "https://movie.naver.com/movie/bi/mi/point.nhn?code=69902\n",
      "https://movie.naver.com/movie/bi/mi/point.nhn?code=69903\n",
      "https://movie.naver.com/movie/bi/mi/point.nhn?code=69904\n",
      "https://movie.naver.com/movie/bi/mi/point.nhn?code=69905\n",
      "https://movie.naver.com/movie/bi/mi/point.nhn?code=69906\n",
      "https://movie.naver.com/movie/bi/mi/point.nhn?code=69907\n",
      "https://movie.naver.com/movie/bi/mi/point.nhn?code=69908\n",
      "https://movie.naver.com/movie/bi/mi/point.nhn?code=69909\n",
      "https://movie.naver.com/movie/bi/mi/point.nhn?code=69910\n",
      "https://movie.naver.com/movie/bi/mi/point.nhn?code=69911\n",
      "https://movie.naver.com/movie/bi/mi/point.nhn?code=69912\n",
      "https://movie.naver.com/movie/bi/mi/point.nhn?code=69913\n",
      "https://movie.naver.com/movie/bi/mi/point.nhn?code=69914\n",
      "https://movie.naver.com/movie/bi/mi/point.nhn?code=69915\n",
      "https://movie.naver.com/movie/bi/mi/point.nhn?code=69916\n",
      "https://movie.naver.com/movie/bi/mi/point.nhn?code=69917\n",
      "https://movie.naver.com/movie/bi/mi/point.nhn?code=69918\n",
      "https://movie.naver.com/movie/bi/mi/point.nhn?code=69919\n",
      "https://movie.naver.com/movie/bi/mi/point.nhn?code=69920\n",
      "https://movie.naver.com/movie/bi/mi/point.nhn?code=69921\n",
      "https://movie.naver.com/movie/bi/mi/point.nhn?code=69922\n",
      "https://movie.naver.com/movie/bi/mi/point.nhn?code=69923\n",
      "https://movie.naver.com/movie/bi/mi/point.nhn?code=69924\n",
      "https://movie.naver.com/movie/bi/mi/point.nhn?code=69925\n",
      "https://movie.naver.com/movie/bi/mi/point.nhn?code=69926\n",
      "https://movie.naver.com/movie/bi/mi/point.nhn?code=69927\n",
      "https://movie.naver.com/movie/bi/mi/point.nhn?code=69928\n",
      "https://movie.naver.com/movie/bi/mi/point.nhn?code=69929\n",
      "https://movie.naver.com/movie/bi/mi/point.nhn?code=69930\n",
      "https://movie.naver.com/movie/bi/mi/point.nhn?code=69931\n",
      "https://movie.naver.com/movie/bi/mi/point.nhn?code=69932\n",
      "https://movie.naver.com/movie/bi/mi/point.nhn?code=69933\n",
      "https://movie.naver.com/movie/bi/mi/point.nhn?code=69934\n",
      "https://movie.naver.com/movie/bi/mi/point.nhn?code=69935\n",
      "https://movie.naver.com/movie/bi/mi/point.nhn?code=69936\n",
      "https://movie.naver.com/movie/bi/mi/point.nhn?code=69937\n",
      "https://movie.naver.com/movie/bi/mi/point.nhn?code=69938\n",
      "https://movie.naver.com/movie/bi/mi/point.nhn?code=69939\n",
      "https://movie.naver.com/movie/bi/mi/point.nhn?code=69940\n",
      "https://movie.naver.com/movie/bi/mi/point.nhn?code=69941\n",
      "https://movie.naver.com/movie/bi/mi/point.nhn?code=69942\n",
      "https://movie.naver.com/movie/bi/mi/point.nhn?code=69943\n",
      "https://movie.naver.com/movie/bi/mi/point.nhn?code=69944\n",
      "https://movie.naver.com/movie/bi/mi/point.nhn?code=69945\n",
      "https://movie.naver.com/movie/bi/mi/point.nhn?code=69946\n",
      "https://movie.naver.com/movie/bi/mi/point.nhn?code=69947\n",
      "https://movie.naver.com/movie/bi/mi/point.nhn?code=69948\n",
      "https://movie.naver.com/movie/bi/mi/point.nhn?code=69949\n",
      "https://movie.naver.com/movie/bi/mi/point.nhn?code=69950\n",
      "https://movie.naver.com/movie/bi/mi/point.nhn?code=69951\n",
      "https://movie.naver.com/movie/bi/mi/point.nhn?code=69952\n",
      "https://movie.naver.com/movie/bi/mi/point.nhn?code=69953\n",
      "https://movie.naver.com/movie/bi/mi/point.nhn?code=69954\n",
      "https://movie.naver.com/movie/bi/mi/point.nhn?code=69955\n",
      "https://movie.naver.com/movie/bi/mi/point.nhn?code=69956\n",
      "https://movie.naver.com/movie/bi/mi/point.nhn?code=69957\n",
      "https://movie.naver.com/movie/bi/mi/point.nhn?code=69958\n",
      "https://movie.naver.com/movie/bi/mi/point.nhn?code=69959\n",
      "https://movie.naver.com/movie/bi/mi/point.nhn?code=69960\n",
      "https://movie.naver.com/movie/bi/mi/point.nhn?code=69961\n",
      "https://movie.naver.com/movie/bi/mi/point.nhn?code=69962\n",
      "https://movie.naver.com/movie/bi/mi/point.nhn?code=69963\n",
      "https://movie.naver.com/movie/bi/mi/point.nhn?code=69964\n",
      "https://movie.naver.com/movie/bi/mi/point.nhn?code=69965\n",
      "https://movie.naver.com/movie/bi/mi/point.nhn?code=69966\n",
      "https://movie.naver.com/movie/bi/mi/point.nhn?code=69967\n",
      "https://movie.naver.com/movie/bi/mi/point.nhn?code=69968\n",
      "https://movie.naver.com/movie/bi/mi/point.nhn?code=69969\n",
      "https://movie.naver.com/movie/bi/mi/point.nhn?code=69970\n",
      "https://movie.naver.com/movie/bi/mi/point.nhn?code=69971\n",
      "https://movie.naver.com/movie/bi/mi/point.nhn?code=69972\n",
      "https://movie.naver.com/movie/bi/mi/point.nhn?code=69973\n",
      "https://movie.naver.com/movie/bi/mi/point.nhn?code=69974\n",
      "https://movie.naver.com/movie/bi/mi/point.nhn?code=69975\n",
      "https://movie.naver.com/movie/bi/mi/point.nhn?code=69976\n",
      "https://movie.naver.com/movie/bi/mi/point.nhn?code=69977\n",
      "https://movie.naver.com/movie/bi/mi/point.nhn?code=69978\n",
      "https://movie.naver.com/movie/bi/mi/point.nhn?code=69979\n",
      "https://movie.naver.com/movie/bi/mi/point.nhn?code=69980\n",
      "https://movie.naver.com/movie/bi/mi/point.nhn?code=69981\n",
      "https://movie.naver.com/movie/bi/mi/point.nhn?code=69982\n",
      "https://movie.naver.com/movie/bi/mi/point.nhn?code=69983\n",
      "https://movie.naver.com/movie/bi/mi/point.nhn?code=69984\n",
      "https://movie.naver.com/movie/bi/mi/point.nhn?code=69985\n",
      "https://movie.naver.com/movie/bi/mi/point.nhn?code=69986\n",
      "https://movie.naver.com/movie/bi/mi/point.nhn?code=69987\n",
      "https://movie.naver.com/movie/bi/mi/point.nhn?code=69988\n",
      "https://movie.naver.com/movie/bi/mi/point.nhn?code=69989\n",
      "https://movie.naver.com/movie/bi/mi/point.nhn?code=69990\n",
      "https://movie.naver.com/movie/bi/mi/point.nhn?code=69991\n",
      "https://movie.naver.com/movie/bi/mi/point.nhn?code=69992\n",
      "https://movie.naver.com/movie/bi/mi/point.nhn?code=69993\n",
      "https://movie.naver.com/movie/bi/mi/point.nhn?code=69994\n",
      "https://movie.naver.com/movie/bi/mi/point.nhn?code=69995\n",
      "https://movie.naver.com/movie/bi/mi/point.nhn?code=69996\n",
      "https://movie.naver.com/movie/bi/mi/point.nhn?code=69997\n",
      "https://movie.naver.com/movie/bi/mi/point.nhn?code=69998\n",
      "https://movie.naver.com/movie/bi/mi/point.nhn?code=69999\n",
      "https://movie.naver.com/movie/bi/mi/point.nhn?code=70000\n",
      "https://movie.naver.com/movie/bi/mi/point.nhn?code=70001\n",
      "https://movie.naver.com/movie/bi/mi/point.nhn?code=70002\n",
      "https://movie.naver.com/movie/bi/mi/point.nhn?code=70003\n",
      "https://movie.naver.com/movie/bi/mi/point.nhn?code=70004\n",
      "https://movie.naver.com/movie/bi/mi/point.nhn?code=70005\n",
      "https://movie.naver.com/movie/bi/mi/point.nhn?code=70006\n",
      "https://movie.naver.com/movie/bi/mi/point.nhn?code=70007\n",
      "https://movie.naver.com/movie/bi/mi/point.nhn?code=70008\n",
      "https://movie.naver.com/movie/bi/mi/point.nhn?code=70009\n",
      "https://movie.naver.com/movie/bi/mi/point.nhn?code=70010\n",
      "https://movie.naver.com/movie/bi/mi/point.nhn?code=70011\n",
      "https://movie.naver.com/movie/bi/mi/point.nhn?code=70012\n",
      "https://movie.naver.com/movie/bi/mi/point.nhn?code=70013\n",
      "https://movie.naver.com/movie/bi/mi/point.nhn?code=70014\n",
      "https://movie.naver.com/movie/bi/mi/point.nhn?code=70015\n",
      "https://movie.naver.com/movie/bi/mi/point.nhn?code=70016\n",
      "https://movie.naver.com/movie/bi/mi/point.nhn?code=70017\n",
      "https://movie.naver.com/movie/bi/mi/point.nhn?code=70018\n",
      "https://movie.naver.com/movie/bi/mi/point.nhn?code=70019\n",
      "https://movie.naver.com/movie/bi/mi/point.nhn?code=70020\n",
      "https://movie.naver.com/movie/bi/mi/point.nhn?code=70021\n",
      "https://movie.naver.com/movie/bi/mi/point.nhn?code=70022\n",
      "https://movie.naver.com/movie/bi/mi/point.nhn?code=70023\n",
      "https://movie.naver.com/movie/bi/mi/point.nhn?code=70024\n",
      "https://movie.naver.com/movie/bi/mi/point.nhn?code=70025\n",
      "https://movie.naver.com/movie/bi/mi/point.nhn?code=70026\n",
      "https://movie.naver.com/movie/bi/mi/point.nhn?code=70027\n",
      "https://movie.naver.com/movie/bi/mi/point.nhn?code=70028\n",
      "https://movie.naver.com/movie/bi/mi/point.nhn?code=70029\n",
      "https://movie.naver.com/movie/bi/mi/point.nhn?code=70030\n",
      "https://movie.naver.com/movie/bi/mi/point.nhn?code=70031\n",
      "https://movie.naver.com/movie/bi/mi/point.nhn?code=70032\n",
      "https://movie.naver.com/movie/bi/mi/point.nhn?code=70033\n",
      "https://movie.naver.com/movie/bi/mi/point.nhn?code=70034\n",
      "https://movie.naver.com/movie/bi/mi/point.nhn?code=70035\n",
      "https://movie.naver.com/movie/bi/mi/point.nhn?code=70036\n",
      "https://movie.naver.com/movie/bi/mi/point.nhn?code=70037\n",
      "https://movie.naver.com/movie/bi/mi/point.nhn?code=70038\n",
      "https://movie.naver.com/movie/bi/mi/point.nhn?code=70039\n",
      "https://movie.naver.com/movie/bi/mi/point.nhn?code=70040\n",
      "https://movie.naver.com/movie/bi/mi/point.nhn?code=70041\n",
      "https://movie.naver.com/movie/bi/mi/point.nhn?code=70042\n",
      "https://movie.naver.com/movie/bi/mi/point.nhn?code=70043\n",
      "https://movie.naver.com/movie/bi/mi/point.nhn?code=70044\n",
      "https://movie.naver.com/movie/bi/mi/point.nhn?code=70045\n",
      "https://movie.naver.com/movie/bi/mi/point.nhn?code=70046\n",
      "https://movie.naver.com/movie/bi/mi/point.nhn?code=70047\n",
      "https://movie.naver.com/movie/bi/mi/point.nhn?code=70048\n",
      "https://movie.naver.com/movie/bi/mi/point.nhn?code=70049\n",
      "https://movie.naver.com/movie/bi/mi/point.nhn?code=70050\n",
      "https://movie.naver.com/movie/bi/mi/point.nhn?code=70051\n",
      "https://movie.naver.com/movie/bi/mi/point.nhn?code=70052\n",
      "https://movie.naver.com/movie/bi/mi/point.nhn?code=70053\n",
      "https://movie.naver.com/movie/bi/mi/point.nhn?code=70054\n",
      "https://movie.naver.com/movie/bi/mi/point.nhn?code=70055\n",
      "https://movie.naver.com/movie/bi/mi/point.nhn?code=70056\n",
      "https://movie.naver.com/movie/bi/mi/point.nhn?code=70057\n",
      "https://movie.naver.com/movie/bi/mi/point.nhn?code=70058\n",
      "https://movie.naver.com/movie/bi/mi/point.nhn?code=70059\n",
      "https://movie.naver.com/movie/bi/mi/point.nhn?code=70060\n",
      "https://movie.naver.com/movie/bi/mi/point.nhn?code=70061\n",
      "https://movie.naver.com/movie/bi/mi/point.nhn?code=70062\n",
      "https://movie.naver.com/movie/bi/mi/point.nhn?code=70063\n",
      "https://movie.naver.com/movie/bi/mi/point.nhn?code=70064\n",
      "https://movie.naver.com/movie/bi/mi/point.nhn?code=70065\n",
      "https://movie.naver.com/movie/bi/mi/point.nhn?code=70066\n",
      "https://movie.naver.com/movie/bi/mi/point.nhn?code=70067\n",
      "https://movie.naver.com/movie/bi/mi/point.nhn?code=70068\n",
      "https://movie.naver.com/movie/bi/mi/point.nhn?code=70069\n",
      "https://movie.naver.com/movie/bi/mi/point.nhn?code=70070\n",
      "https://movie.naver.com/movie/bi/mi/point.nhn?code=70071\n",
      "https://movie.naver.com/movie/bi/mi/point.nhn?code=70072\n",
      "https://movie.naver.com/movie/bi/mi/point.nhn?code=70073\n",
      "https://movie.naver.com/movie/bi/mi/point.nhn?code=70074\n",
      "https://movie.naver.com/movie/bi/mi/point.nhn?code=70075\n",
      "https://movie.naver.com/movie/bi/mi/point.nhn?code=70076\n",
      "https://movie.naver.com/movie/bi/mi/point.nhn?code=70077\n",
      "https://movie.naver.com/movie/bi/mi/point.nhn?code=70078\n",
      "https://movie.naver.com/movie/bi/mi/point.nhn?code=70079\n",
      "https://movie.naver.com/movie/bi/mi/point.nhn?code=70080\n",
      "https://movie.naver.com/movie/bi/mi/point.nhn?code=70081\n",
      "https://movie.naver.com/movie/bi/mi/point.nhn?code=70082\n",
      "https://movie.naver.com/movie/bi/mi/point.nhn?code=70083\n",
      "https://movie.naver.com/movie/bi/mi/point.nhn?code=70084\n",
      "https://movie.naver.com/movie/bi/mi/point.nhn?code=70085\n",
      "https://movie.naver.com/movie/bi/mi/point.nhn?code=70086\n",
      "https://movie.naver.com/movie/bi/mi/point.nhn?code=70087\n",
      "https://movie.naver.com/movie/bi/mi/point.nhn?code=70088\n",
      "https://movie.naver.com/movie/bi/mi/point.nhn?code=70089\n",
      "https://movie.naver.com/movie/bi/mi/point.nhn?code=70090\n",
      "https://movie.naver.com/movie/bi/mi/point.nhn?code=70091\n",
      "https://movie.naver.com/movie/bi/mi/point.nhn?code=70092\n",
      "https://movie.naver.com/movie/bi/mi/point.nhn?code=70093\n",
      "https://movie.naver.com/movie/bi/mi/point.nhn?code=70094\n",
      "https://movie.naver.com/movie/bi/mi/point.nhn?code=70095\n",
      "https://movie.naver.com/movie/bi/mi/point.nhn?code=70096\n",
      "https://movie.naver.com/movie/bi/mi/point.nhn?code=70097\n",
      "https://movie.naver.com/movie/bi/mi/point.nhn?code=70098\n",
      "https://movie.naver.com/movie/bi/mi/point.nhn?code=70099\n"
     ]
    }
   ],
   "source": [
    "crawling_data = []\n",
    "for code in range(69900,70100):\n",
    "    movie_url = base_url + str(code)\n",
    "    req = requests.get(movie_url)\n",
    "    print(movie_url)\n",
    "    \n",
    "    html = req.content\n",
    "    soup = BeautifulSoup(html, 'lxml')\n",
    "    iframe = soup.find_all('iframe')\n",
    "    \n",
    "    # 영화가 존재하지 않는 경우 체크\n",
    "    if not iframe:\n",
    "        continue\n",
    "    \n",
    "    iframe_url = base_iframe_url + iframe[0]['src']\n",
    "    req = requests.get(iframe_url)\n",
    "    html = req.content\n",
    "    soup = BeautifulSoup(html, 'lxml')\n",
    "    score_table = soup.find(name=\"div\", attrs={\"class\":\"score_result\"})\n",
    "    \n",
    "    # 리뷰가 존재하지 않는 경우 체크\n",
    "    if not score_table:\n",
    "        continue\n",
    "    \n",
    "    score_list = score_table.find_all(name=\"div\", attrs={\"class\":\"star_score\"})\n",
    "    reple_list = score_table.find_all(name=\"div\", attrs={\"class\":\"score_reple\"})\n",
    "    \n",
    "    for idx in range(0, len(score_list)):\n",
    "        if reple_list[idx].find('p') and score_list[idx].find('em'):\n",
    "            reple = reple_list[idx].find('p').text\n",
    "            score = score_list[idx].find('em').text\n",
    "            if int(score) < 6:\n",
    "                score = '0'\n",
    "            else:\n",
    "                score = '1'\n",
    "            crawling_data.append([reple, score])"
   ]
  },
  {
   "cell_type": "code",
   "execution_count": 20,
   "metadata": {},
   "outputs": [
    {
     "data": {
      "text/plain": [
       "['진짜 재밋내..굿 강추  ', '1']"
      ]
     },
     "execution_count": 20,
     "metadata": {},
     "output_type": "execute_result"
    }
   ],
   "source": [
    "crawling_data[5]"
   ]
  },
  {
   "cell_type": "code",
   "execution_count": 34,
   "metadata": {},
   "outputs": [],
   "source": [
    "import csv\n",
    "\n",
    "with open('review_data.csv', 'w', encoding='utf-8') as file:\n",
    "    writer = csv.writer(file, delimiter=',')\n",
    "    writer.writerow(['Review', 'Like'])\n",
    "    for idx in range(0, len(crawling_data)):\n",
    "        review = crawling_data[idx][0]\n",
    "        like = crawling_data[idx][1]\n",
    "        writer.writerow([review, like])"
   ]
  },
  {
   "cell_type": "code",
   "execution_count": 40,
   "metadata": {},
   "outputs": [
    {
     "data": {
      "text/html": [
       "<div>\n",
       "<style scoped>\n",
       "    .dataframe tbody tr th:only-of-type {\n",
       "        vertical-align: middle;\n",
       "    }\n",
       "\n",
       "    .dataframe tbody tr th {\n",
       "        vertical-align: top;\n",
       "    }\n",
       "\n",
       "    .dataframe thead th {\n",
       "        text-align: right;\n",
       "    }\n",
       "</style>\n",
       "<table border=\"1\" class=\"dataframe\">\n",
       "  <thead>\n",
       "    <tr style=\"text-align: right;\">\n",
       "      <th></th>\n",
       "      <th>Review</th>\n",
       "      <th>Like</th>\n",
       "    </tr>\n",
       "  </thead>\n",
       "  <tbody>\n",
       "    <tr>\n",
       "      <th>741</th>\n",
       "      <td>사랑과 열정에 국경이 '있음'을 문화적 차이로 리얼하게 보여준 사랑가득한 영화.</td>\n",
       "      <td>1</td>\n",
       "    </tr>\n",
       "    <tr>\n",
       "      <th>742</th>\n",
       "      <td>왜 로카르노 수상작인지... ㅡㅡ;;;</td>\n",
       "      <td>1</td>\n",
       "    </tr>\n",
       "    <tr>\n",
       "      <th>743</th>\n",
       "      <td>줄거리를 피프에서 배껴온듯한데 본 영화정보완 다르네요, 아무튼 재밌게봤습니다</td>\n",
       "      <td>1</td>\n",
       "    </tr>\n",
       "    <tr>\n",
       "      <th>744</th>\n",
       "      <td>망한다에 200만표 건다</td>\n",
       "      <td>0</td>\n",
       "    </tr>\n",
       "    <tr>\n",
       "      <th>745</th>\n",
       "      <td>찍기귀찮으셨나? 무슨다 롱테이크야.. 대사는많고</td>\n",
       "      <td>0</td>\n",
       "    </tr>\n",
       "  </tbody>\n",
       "</table>\n",
       "</div>"
      ],
      "text/plain": [
       "                                             Review  Like\n",
       "741  사랑과 열정에 국경이 '있음'을 문화적 차이로 리얼하게 보여준 사랑가득한 영화.       1\n",
       "742                         왜 로카르노 수상작인지... ㅡㅡ;;;       1\n",
       "743    줄거리를 피프에서 배껴온듯한데 본 영화정보완 다르네요, 아무튼 재밌게봤습니다       1\n",
       "744                                 망한다에 200만표 건다       0\n",
       "745                    찍기귀찮으셨나? 무슨다 롱테이크야.. 대사는많고       0"
      ]
     },
     "execution_count": 40,
     "metadata": {},
     "output_type": "execute_result"
    }
   ],
   "source": [
    "import pandas as pd\n",
    "\n",
    "df = pd.read_csv('review_data.csv')\n",
    "df.tail(5)"
   ]
  },
  {
   "cell_type": "markdown",
   "metadata": {},
   "source": [
    "Review Classification (TF)"
   ]
  },
  {
   "cell_type": "code",
   "execution_count": 55,
   "metadata": {},
   "outputs": [],
   "source": [
    "import os\n",
    "\n",
    "# 리뷰데이터 다운로드 - https://github.com/e9t/nsmc\n",
    "train_data = pd.read_csv('rating_train.csv')\n",
    "test_data = pd.read_csv('review_data.csv')\n",
    "train_data = train_data.dropna()\n",
    "test_data = test_data.dropna()"
   ]
  },
  {
   "cell_type": "code",
   "execution_count": 71,
   "metadata": {},
   "outputs": [
    {
     "ename": "NameError",
     "evalue": "name 'jpype' is not defined",
     "output_type": "error",
     "traceback": [
      "\u001b[0;31m---------------------------------------------------------------------------\u001b[0m",
      "\u001b[0;31mNameError\u001b[0m                                 Traceback (most recent call last)",
      "\u001b[0;32m<ipython-input-71-6e566cb791e8>\u001b[0m in \u001b[0;36m<module>\u001b[0;34m()\u001b[0m\n\u001b[1;32m      1\u001b[0m \u001b[0;31m# 사전 생성을 위한 형태소 추출\u001b[0m\u001b[0;34m\u001b[0m\u001b[0;34m\u001b[0m\u001b[0m\n\u001b[1;32m      2\u001b[0m \u001b[0;32mfrom\u001b[0m \u001b[0mkonlpy\u001b[0m\u001b[0;34m.\u001b[0m\u001b[0mtag\u001b[0m \u001b[0;32mimport\u001b[0m \u001b[0mTwitter\u001b[0m\u001b[0;34m\u001b[0m\u001b[0m\n\u001b[0;32m----> 3\u001b[0;31m \u001b[0mpos_tagger\u001b[0m \u001b[0;34m=\u001b[0m \u001b[0mTwitter\u001b[0m\u001b[0;34m(\u001b[0m\u001b[0;34m)\u001b[0m\u001b[0;34m\u001b[0m\u001b[0m\n\u001b[0m\u001b[1;32m      4\u001b[0m \u001b[0;34m\u001b[0m\u001b[0m\n\u001b[1;32m      5\u001b[0m \u001b[0;32mdef\u001b[0m \u001b[0mtokenize\u001b[0m\u001b[0;34m(\u001b[0m\u001b[0mdoc\u001b[0m\u001b[0;34m)\u001b[0m\u001b[0;34m:\u001b[0m\u001b[0;34m\u001b[0m\u001b[0m\n",
      "\u001b[0;32m/anaconda3/lib/python3.6/site-packages/konlpy/tag/_twitter.py\u001b[0m in \u001b[0;36m__init__\u001b[0;34m(self, jvmpath)\u001b[0m\n\u001b[1;32m     70\u001b[0m     \u001b[0;32mdef\u001b[0m \u001b[0m__init__\u001b[0m\u001b[0;34m(\u001b[0m\u001b[0mself\u001b[0m\u001b[0;34m,\u001b[0m \u001b[0mjvmpath\u001b[0m\u001b[0;34m=\u001b[0m\u001b[0;32mNone\u001b[0m\u001b[0;34m)\u001b[0m\u001b[0;34m:\u001b[0m\u001b[0;34m\u001b[0m\u001b[0m\n\u001b[1;32m     71\u001b[0m         \u001b[0;32mif\u001b[0m \u001b[0;32mnot\u001b[0m \u001b[0mjpype\u001b[0m\u001b[0;34m.\u001b[0m\u001b[0misJVMStarted\u001b[0m\u001b[0;34m(\u001b[0m\u001b[0;34m)\u001b[0m\u001b[0;34m:\u001b[0m\u001b[0;34m\u001b[0m\u001b[0m\n\u001b[0;32m---> 72\u001b[0;31m             \u001b[0mjvm\u001b[0m\u001b[0;34m.\u001b[0m\u001b[0minit_jvm\u001b[0m\u001b[0;34m(\u001b[0m\u001b[0mjvmpath\u001b[0m\u001b[0;34m)\u001b[0m\u001b[0;34m\u001b[0m\u001b[0m\n\u001b[0m\u001b[1;32m     73\u001b[0m \u001b[0;34m\u001b[0m\u001b[0m\n\u001b[1;32m     74\u001b[0m         \u001b[0mtktJavaPackage\u001b[0m \u001b[0;34m=\u001b[0m \u001b[0mjpype\u001b[0m\u001b[0;34m.\u001b[0m\u001b[0mJPackage\u001b[0m\u001b[0;34m(\u001b[0m\u001b[0;34m'kr.lucypark.tkt'\u001b[0m\u001b[0;34m)\u001b[0m\u001b[0;34m\u001b[0m\u001b[0m\n",
      "\u001b[0;32m/anaconda3/lib/python3.6/site-packages/konlpy/jvm.py\u001b[0m in \u001b[0;36minit_jvm\u001b[0;34m(jvmpath)\u001b[0m\n\u001b[1;32m     20\u001b[0m     \"\"\"\n\u001b[1;32m     21\u001b[0m \u001b[0;34m\u001b[0m\u001b[0m\n\u001b[0;32m---> 22\u001b[0;31m     \u001b[0;32mif\u001b[0m \u001b[0mjpype\u001b[0m\u001b[0;34m.\u001b[0m\u001b[0misJVMStarted\u001b[0m\u001b[0;34m(\u001b[0m\u001b[0;34m)\u001b[0m\u001b[0;34m:\u001b[0m\u001b[0;34m\u001b[0m\u001b[0m\n\u001b[0m\u001b[1;32m     23\u001b[0m         \u001b[0mlogging\u001b[0m\u001b[0;34m.\u001b[0m\u001b[0mwarning\u001b[0m\u001b[0;34m(\u001b[0m\u001b[0;34m'JVM is already running. Do not init twice!'\u001b[0m\u001b[0;34m)\u001b[0m\u001b[0;34m\u001b[0m\u001b[0m\n\u001b[1;32m     24\u001b[0m         \u001b[0;32mreturn\u001b[0m\u001b[0;34m\u001b[0m\u001b[0m\n",
      "\u001b[0;31mNameError\u001b[0m: name 'jpype' is not defined"
     ]
    }
   ],
   "source": [
    "# 사전 생성을 위한 형태소 추출\n",
    "from konlpy.tag import Twitter\n",
    "pos_tagger = Twitter()\n",
    "\n",
    "def tokenize(doc):\n",
    "    return ['/'.join(t) for t in pos_tagger.pos(doc, norm=True, stem=True)]"
   ]
  },
  {
   "cell_type": "code",
   "execution_count": 70,
   "metadata": {},
   "outputs": [
    {
     "ename": "NameError",
     "evalue": "name 'tokenize' is not defined",
     "output_type": "error",
     "traceback": [
      "\u001b[0;31m---------------------------------------------------------------------------\u001b[0m",
      "\u001b[0;31mNameError\u001b[0m                                 Traceback (most recent call last)",
      "\u001b[0;32m<ipython-input-70-27fde821abc1>\u001b[0m in \u001b[0;36m<module>\u001b[0;34m()\u001b[0m\n\u001b[1;32m      1\u001b[0m \u001b[0;31m# (형태소 뭉치, label) 을 element로 하는 list 생성\u001b[0m\u001b[0;34m\u001b[0m\u001b[0;34m\u001b[0m\u001b[0m\n\u001b[0;32m----> 2\u001b[0;31m \u001b[0mtrain_docs\u001b[0m \u001b[0;34m=\u001b[0m \u001b[0;34m[\u001b[0m\u001b[0;34m(\u001b[0m\u001b[0mtokenize\u001b[0m\u001b[0;34m(\u001b[0m\u001b[0mrow\u001b[0m\u001b[0;34m[\u001b[0m\u001b[0;34m'review'\u001b[0m\u001b[0;34m]\u001b[0m\u001b[0;34m)\u001b[0m\u001b[0;34m,\u001b[0m \u001b[0mrow\u001b[0m\u001b[0;34m[\u001b[0m\u001b[0;34m'like'\u001b[0m\u001b[0;34m]\u001b[0m\u001b[0;34m)\u001b[0m \u001b[0;32mfor\u001b[0m \u001b[0mindex\u001b[0m\u001b[0;34m,\u001b[0m \u001b[0mrow\u001b[0m \u001b[0;32min\u001b[0m \u001b[0mtrain_data\u001b[0m\u001b[0;34m.\u001b[0m\u001b[0miterrows\u001b[0m\u001b[0;34m(\u001b[0m\u001b[0;34m)\u001b[0m\u001b[0;34m]\u001b[0m\u001b[0;34m\u001b[0m\u001b[0m\n\u001b[0m\u001b[1;32m      3\u001b[0m \u001b[0mtest_docs\u001b[0m \u001b[0;34m=\u001b[0m \u001b[0;34m[\u001b[0m\u001b[0;34m(\u001b[0m\u001b[0mtokenize\u001b[0m\u001b[0;34m(\u001b[0m\u001b[0mrow\u001b[0m\u001b[0;34m[\u001b[0m\u001b[0;34m'review'\u001b[0m\u001b[0;34m]\u001b[0m\u001b[0;34m)\u001b[0m\u001b[0;34m,\u001b[0m \u001b[0mrow\u001b[0m\u001b[0;34m[\u001b[0m\u001b[0;34m'like'\u001b[0m\u001b[0;34m]\u001b[0m\u001b[0;34m)\u001b[0m \u001b[0;32mfor\u001b[0m \u001b[0mindex\u001b[0m\u001b[0;34m,\u001b[0m \u001b[0mrow\u001b[0m \u001b[0;32min\u001b[0m \u001b[0mtest_data\u001b[0m\u001b[0;34m.\u001b[0m\u001b[0miterrows\u001b[0m\u001b[0;34m(\u001b[0m\u001b[0;34m)\u001b[0m\u001b[0;34m]\u001b[0m\u001b[0;34m\u001b[0m\u001b[0m\n",
      "\u001b[0;32m<ipython-input-70-27fde821abc1>\u001b[0m in \u001b[0;36m<listcomp>\u001b[0;34m(.0)\u001b[0m\n\u001b[1;32m      1\u001b[0m \u001b[0;31m# (형태소 뭉치, label) 을 element로 하는 list 생성\u001b[0m\u001b[0;34m\u001b[0m\u001b[0;34m\u001b[0m\u001b[0m\n\u001b[0;32m----> 2\u001b[0;31m \u001b[0mtrain_docs\u001b[0m \u001b[0;34m=\u001b[0m \u001b[0;34m[\u001b[0m\u001b[0;34m(\u001b[0m\u001b[0mtokenize\u001b[0m\u001b[0;34m(\u001b[0m\u001b[0mrow\u001b[0m\u001b[0;34m[\u001b[0m\u001b[0;34m'review'\u001b[0m\u001b[0;34m]\u001b[0m\u001b[0;34m)\u001b[0m\u001b[0;34m,\u001b[0m \u001b[0mrow\u001b[0m\u001b[0;34m[\u001b[0m\u001b[0;34m'like'\u001b[0m\u001b[0;34m]\u001b[0m\u001b[0;34m)\u001b[0m \u001b[0;32mfor\u001b[0m \u001b[0mindex\u001b[0m\u001b[0;34m,\u001b[0m \u001b[0mrow\u001b[0m \u001b[0;32min\u001b[0m \u001b[0mtrain_data\u001b[0m\u001b[0;34m.\u001b[0m\u001b[0miterrows\u001b[0m\u001b[0;34m(\u001b[0m\u001b[0;34m)\u001b[0m\u001b[0;34m]\u001b[0m\u001b[0;34m\u001b[0m\u001b[0m\n\u001b[0m\u001b[1;32m      3\u001b[0m \u001b[0mtest_docs\u001b[0m \u001b[0;34m=\u001b[0m \u001b[0;34m[\u001b[0m\u001b[0;34m(\u001b[0m\u001b[0mtokenize\u001b[0m\u001b[0;34m(\u001b[0m\u001b[0mrow\u001b[0m\u001b[0;34m[\u001b[0m\u001b[0;34m'review'\u001b[0m\u001b[0;34m]\u001b[0m\u001b[0;34m)\u001b[0m\u001b[0;34m,\u001b[0m \u001b[0mrow\u001b[0m\u001b[0;34m[\u001b[0m\u001b[0;34m'like'\u001b[0m\u001b[0;34m]\u001b[0m\u001b[0;34m)\u001b[0m \u001b[0;32mfor\u001b[0m \u001b[0mindex\u001b[0m\u001b[0;34m,\u001b[0m \u001b[0mrow\u001b[0m \u001b[0;32min\u001b[0m \u001b[0mtest_data\u001b[0m\u001b[0;34m.\u001b[0m\u001b[0miterrows\u001b[0m\u001b[0;34m(\u001b[0m\u001b[0;34m)\u001b[0m\u001b[0;34m]\u001b[0m\u001b[0;34m\u001b[0m\u001b[0m\n",
      "\u001b[0;31mNameError\u001b[0m: name 'tokenize' is not defined"
     ]
    }
   ],
   "source": [
    "# (형태소 뭉치, label) 을 element로 하는 list 생성\n",
    "train_docs = [(tokenize(row['review']), row['like']) for index, row in train_data.iterrows()]\n",
    "test_docs = [(tokenize(row['review']), row['like']) for index, row in test_data.iterrows()]"
   ]
  },
  {
   "cell_type": "code",
   "execution_count": 69,
   "metadata": {},
   "outputs": [
    {
     "ename": "NameError",
     "evalue": "name 'train_docs' is not defined",
     "output_type": "error",
     "traceback": [
      "\u001b[0;31m---------------------------------------------------------------------------\u001b[0m",
      "\u001b[0;31mNameError\u001b[0m                                 Traceback (most recent call last)",
      "\u001b[0;32m<ipython-input-69-6a513ae53cd9>\u001b[0m in \u001b[0;36m<module>\u001b[0;34m()\u001b[0m\n\u001b[1;32m      1\u001b[0m \u001b[0;31m# 생성된 리스트에서 말뭉치 추출\u001b[0m\u001b[0;34m\u001b[0m\u001b[0;34m\u001b[0m\u001b[0m\n\u001b[0;32m----> 2\u001b[0;31m \u001b[0mtoken\u001b[0m \u001b[0;34m=\u001b[0m \u001b[0;34m[\u001b[0m\u001b[0mt\u001b[0m \u001b[0;32mfor\u001b[0m \u001b[0md\u001b[0m \u001b[0;32min\u001b[0m \u001b[0mtrain_docs\u001b[0m \u001b[0;32mfor\u001b[0m \u001b[0mt\u001b[0m \u001b[0;32min\u001b[0m \u001b[0md\u001b[0m\u001b[0;34m[\u001b[0m\u001b[0;36m0\u001b[0m\u001b[0;34m]\u001b[0m\u001b[0;34m]\u001b[0m\u001b[0;34m\u001b[0m\u001b[0m\n\u001b[0m\u001b[1;32m      3\u001b[0m \u001b[0;34m\u001b[0m\u001b[0m\n\u001b[1;32m      4\u001b[0m \u001b[0;31m# 자연어 처리 모듈 nltk로, 말뭉치에서 빈도수 상위 n개 단어 추출\u001b[0m\u001b[0;34m\u001b[0m\u001b[0;34m\u001b[0m\u001b[0m\n\u001b[1;32m      5\u001b[0m \u001b[0;32mimport\u001b[0m \u001b[0mnltk\u001b[0m\u001b[0;34m\u001b[0m\u001b[0m\n",
      "\u001b[0;31mNameError\u001b[0m: name 'train_docs' is not defined"
     ]
    }
   ],
   "source": [
    "# 생성된 리스트에서 말뭉치 추출\n",
    "token = [t for d in train_docs for t in d[0]]\n",
    "\n",
    "# 자연어 처리 모듈 nltk로, 말뭉치에서 빈도수 상위 n개 단어 추출\n",
    "import nltk\n",
    "text = nltk.Text(token, name=\"NMSC\") # text.vocab().most_common(n)"
   ]
  },
  {
   "cell_type": "code",
   "execution_count": null,
   "metadata": {},
   "outputs": [],
   "source": [
    "# 상위 2000개 빈도수의 단어를 추출한 뒤, BoW(Bag of Words)기법으로 워드임베딩\n",
    "selected_words = [f[0] for f in text.vocab().most_common(2000)]"
   ]
  },
  {
   "cell_type": "code",
   "execution_count": null,
   "metadata": {},
   "outputs": [],
   "source": [
    "# nltk 라이브러리가 원하는 형태로 input formatting\n",
    "def term_exists(doc):\n",
    "    return {'exists({})'.format(word): (word in set(doc)) for word in selected_words}\n",
    "\n",
    "train_docs = train_docs[:10000]\n",
    "test_docs = test_docs[:10000]\n",
    "train_xy = [(term_exists(d), c) for d,c in train_docs]\n",
    "test_xy = [(term_exists(d), c) for d,c in test_docs]"
   ]
  },
  {
   "cell_type": "code",
   "execution_count": 60,
   "metadata": {},
   "outputs": [
    {
     "ename": "NameError",
     "evalue": "name 'nltk' is not defined",
     "output_type": "error",
     "traceback": [
      "\u001b[0;31m---------------------------------------------------------------------------\u001b[0m",
      "\u001b[0;31mNameError\u001b[0m                                 Traceback (most recent call last)",
      "\u001b[0;32m<ipython-input-60-6c01a199e4aa>\u001b[0m in \u001b[0;36m<module>\u001b[0;34m()\u001b[0m\n\u001b[1;32m      1\u001b[0m \u001b[0;31m# 약 80%의 정확도\u001b[0m\u001b[0;34m\u001b[0m\u001b[0;34m\u001b[0m\u001b[0m\n\u001b[0;32m----> 2\u001b[0;31m \u001b[0mclassifier\u001b[0m \u001b[0;34m=\u001b[0m \u001b[0mnltk\u001b[0m\u001b[0;34m.\u001b[0m\u001b[0mNaiveBayesClassifier\u001b[0m\u001b[0;34m.\u001b[0m\u001b[0mtrain\u001b[0m\u001b[0;34m(\u001b[0m\u001b[0mtrain_xy\u001b[0m\u001b[0;34m)\u001b[0m\u001b[0;34m\u001b[0m\u001b[0m\n\u001b[0m\u001b[1;32m      3\u001b[0m \u001b[0mprint\u001b[0m\u001b[0;34m(\u001b[0m\u001b[0mnltk\u001b[0m\u001b[0;34m.\u001b[0m\u001b[0mclassify\u001b[0m\u001b[0;34m.\u001b[0m\u001b[0maccuracy\u001b[0m\u001b[0;34m(\u001b[0m\u001b[0mclassifier\u001b[0m\u001b[0;34m,\u001b[0m \u001b[0mtest_xy\u001b[0m\u001b[0;34m)\u001b[0m\u001b[0;34m)\u001b[0m\u001b[0;34m\u001b[0m\u001b[0m\n",
      "\u001b[0;31mNameError\u001b[0m: name 'nltk' is not defined"
     ]
    }
   ],
   "source": [
    "# 약 80%의 정확도\n",
    "classifier = nltk.NaiveBayesClassifier.train(train_xy)\n",
    "print(nltk.classify.accuracy(classifier, test_xy))"
   ]
  },
  {
   "cell_type": "markdown",
   "metadata": {},
   "source": [
    "TF-IDF Classification"
   ]
  },
  {
   "cell_type": "code",
   "execution_count": 58,
   "metadata": {},
   "outputs": [
    {
     "data": {
      "text/plain": [
       "LogisticRegression(C=1.0, class_weight=None, dual=False, fit_intercept=True,\n",
       "          intercept_scaling=1, max_iter=100, multi_class='ovr', n_jobs=1,\n",
       "          penalty='l2', random_state=None, solver='liblinear', tol=0.0001,\n",
       "          verbose=0, warm_start=False)"
      ]
     },
     "execution_count": 58,
     "metadata": {},
     "output_type": "execute_result"
    }
   ],
   "source": [
    "import os\n",
    "import numpy as np\n",
    "\n",
    "# 리뷰데이터\n",
    "train_data = pd.read_csv('rating_train.csv')\n",
    "test_data = pd.read_csv('review_data.csv')\n",
    "train_data = train_data.dropna()\n",
    "test_data = test_data.dropna()\n",
    "\n",
    "# tf-idf 임베딩\n",
    "from sklearn.feature_extraction.text import TfidfVectorizer\n",
    "from sklearn.linear_model import SGDClassifier\n",
    "\n",
    "vect = TfidfVectorizer()\n",
    "review_column = np.array([row['review'] for index, row in train_data.iterrows()])\n",
    "y_train = np.array([row['like'] for index, row in train_data.iterrows()])\n",
    "\n",
    "# fit_transform : vect object에게 transform을 학습시킴\n",
    "X_train = vect.fit_transform(review_column)\n",
    "\n",
    "# 로지스틱 분류기 학습 : 약 81% 정확도\n",
    "from sklearn.linear_model import LogisticRegression\n",
    "lrm = LogisticRegression()\n",
    "lrm.fit(X_train, y_train)"
   ]
  },
  {
   "cell_type": "code",
   "execution_count": 66,
   "metadata": {},
   "outputs": [
    {
     "data": {
      "text/plain": [
       "0.7265415549597856"
      ]
     },
     "execution_count": 66,
     "metadata": {},
     "output_type": "execute_result"
    }
   ],
   "source": [
    "review_column = np.array([row['Review'] for index, row in test_data.iterrows()])\n",
    "y_test = np.array([row['Like'] for index, row in test_data.iterrows()])\n",
    "\n",
    "# transform : test 데이터를 학습된 vect object로 임베딩시킴\n",
    "X_test = vect.transform(review_column)\n",
    "lrm.score(X_test, y_test)"
   ]
  },
  {
   "cell_type": "code",
   "execution_count": 68,
   "metadata": {},
   "outputs": [
    {
     "name": "stdout",
     "output_type": "stream",
     "text": [
      "[0]\n",
      "[1]\n"
     ]
    }
   ],
   "source": [
    "# 실제 텍스트로 테스트\n",
    "test_data1 = [\"그저그럼.. 재미없음\"] # label : 0\n",
    "test_data2 = [\"꿀잼 최고의 영화\"] # label : 1\n",
    "test_tfidf1 = vect.transform(test_data1)\n",
    "test_tfidf2 = vect.transform(test_data2)\n",
    "print(lrm.predict(test_tfidf1))\n",
    "print(lrm.predict(test_tfidf2))"
   ]
  },
  {
   "cell_type": "code",
   "execution_count": 65,
   "metadata": {},
   "outputs": [],
   "source": [
    "# 응용 어플리케이션 임베딩을 위한 모델 관련 파일 저장\n",
    "import pickle\n",
    "import os\n",
    "\n",
    "pickle.dump(vect, open(os.path.join('vectorizer.pkl'), 'wb'))\n",
    "vect_read = pickle.load(open(os.path.join('vectorizer.pkl'), 'rb'))\n",
    "\n",
    "pickle.dump(lrm, open(os.path.join('classification_model.pkl'), 'wb'))\n",
    "lrm_read = pickle.load(open(os.path.join('classification_model.pkl'), 'rb'))"
   ]
  }
 ],
 "metadata": {
  "kernelspec": {
   "display_name": "Python 3",
   "language": "python",
   "name": "python3"
  },
  "language_info": {
   "codemirror_mode": {
    "name": "ipython",
    "version": 3
   },
   "file_extension": ".py",
   "mimetype": "text/x-python",
   "name": "python",
   "nbconvert_exporter": "python",
   "pygments_lexer": "ipython3",
   "version": "3.6.5"
  }
 },
 "nbformat": 4,
 "nbformat_minor": 2
}
