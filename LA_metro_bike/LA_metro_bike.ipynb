{
 "cells": [
  {
   "cell_type": "code",
   "execution_count": 1,
   "metadata": {},
   "outputs": [],
   "source": [
    "import glob, os\n",
    "import numpy as np\n",
    "import pandas as pd\n",
    "import matplotlib.pyplot as plt\n",
    "import geopy.distance\n",
    "import sklearn"
   ]
  },
  {
   "cell_type": "markdown",
   "metadata": {},
   "source": [
    "### EDA,  Data Preprocessing"
   ]
  },
  {
   "cell_type": "code",
   "execution_count": 2,
   "metadata": {},
   "outputs": [
    {
     "name": "stderr",
     "output_type": "stream",
     "text": [
      "/anaconda3/envs/yulenv/lib/python3.6/site-packages/IPython/core/interactiveshell.py:2785: DtypeWarning: Columns (14) have mixed types. Specify dtype option on import or set low_memory=False.\n",
      "  interactivity=interactivity, compiler=compiler, result=result)\n"
     ]
    }
   ],
   "source": [
    "data_raw = pd.read_csv('/Users/yul/Desktop/Github Fetch/LA_metro_bike/metro-bike-share-trip-data.csv')"
   ]
  },
  {
   "cell_type": "code",
   "execution_count": 4,
   "metadata": {
    "scrolled": true
   },
   "outputs": [
    {
     "data": {
      "text/html": [
       "<div>\n",
       "<style scoped>\n",
       "    .dataframe tbody tr th:only-of-type {\n",
       "        vertical-align: middle;\n",
       "    }\n",
       "\n",
       "    .dataframe tbody tr th {\n",
       "        vertical-align: top;\n",
       "    }\n",
       "\n",
       "    .dataframe thead th {\n",
       "        text-align: right;\n",
       "    }\n",
       "</style>\n",
       "<table border=\"1\" class=\"dataframe\">\n",
       "  <thead>\n",
       "    <tr style=\"text-align: right;\">\n",
       "      <th></th>\n",
       "      <th>Duration</th>\n",
       "      <th>Start Time</th>\n",
       "      <th>Starting Station ID</th>\n",
       "      <th>Ending Station ID</th>\n",
       "      <th>Plan Duration</th>\n",
       "      <th>Trip Route Category</th>\n",
       "      <th>Passholder Type</th>\n",
       "      <th>Distance</th>\n",
       "    </tr>\n",
       "  </thead>\n",
       "  <tbody>\n",
       "    <tr>\n",
       "      <th>0</th>\n",
       "      <td>180</td>\n",
       "      <td>2016-07-07 04:17:00</td>\n",
       "      <td>3014.0</td>\n",
       "      <td>3014.0</td>\n",
       "      <td>30.0</td>\n",
       "      <td>Round Trip</td>\n",
       "      <td>Monthly Pass</td>\n",
       "      <td>0.000000</td>\n",
       "    </tr>\n",
       "    <tr>\n",
       "      <th>1</th>\n",
       "      <td>1980</td>\n",
       "      <td>2016-07-07 06:00:00</td>\n",
       "      <td>3014.0</td>\n",
       "      <td>3014.0</td>\n",
       "      <td>30.0</td>\n",
       "      <td>Round Trip</td>\n",
       "      <td>Monthly Pass</td>\n",
       "      <td>0.000000</td>\n",
       "    </tr>\n",
       "    <tr>\n",
       "      <th>2</th>\n",
       "      <td>300</td>\n",
       "      <td>2016-07-07 10:32:00</td>\n",
       "      <td>3016.0</td>\n",
       "      <td>3016.0</td>\n",
       "      <td>365.0</td>\n",
       "      <td>Round Trip</td>\n",
       "      <td>Flex Pass</td>\n",
       "      <td>0.000000</td>\n",
       "    </tr>\n",
       "    <tr>\n",
       "      <th>3</th>\n",
       "      <td>10860</td>\n",
       "      <td>2016-07-07 10:37:00</td>\n",
       "      <td>3016.0</td>\n",
       "      <td>3016.0</td>\n",
       "      <td>365.0</td>\n",
       "      <td>Round Trip</td>\n",
       "      <td>Flex Pass</td>\n",
       "      <td>0.000000</td>\n",
       "    </tr>\n",
       "    <tr>\n",
       "      <th>4</th>\n",
       "      <td>420</td>\n",
       "      <td>2016-07-07 12:51:00</td>\n",
       "      <td>3032.0</td>\n",
       "      <td>3032.0</td>\n",
       "      <td>0.0</td>\n",
       "      <td>Round Trip</td>\n",
       "      <td>Walk-up</td>\n",
       "      <td>0.000000</td>\n",
       "    </tr>\n",
       "    <tr>\n",
       "      <th>5</th>\n",
       "      <td>780</td>\n",
       "      <td>2016-07-07 12:51:00</td>\n",
       "      <td>3021.0</td>\n",
       "      <td>3054.0</td>\n",
       "      <td>30.0</td>\n",
       "      <td>One Way</td>\n",
       "      <td>Monthly Pass</td>\n",
       "      <td>0.441488</td>\n",
       "    </tr>\n",
       "    <tr>\n",
       "      <th>6</th>\n",
       "      <td>600</td>\n",
       "      <td>2016-07-07 12:54:00</td>\n",
       "      <td>3022.0</td>\n",
       "      <td>3014.0</td>\n",
       "      <td>30.0</td>\n",
       "      <td>One Way</td>\n",
       "      <td>Monthly Pass</td>\n",
       "      <td>0.763951</td>\n",
       "    </tr>\n",
       "    <tr>\n",
       "      <th>7</th>\n",
       "      <td>600</td>\n",
       "      <td>2016-07-07 12:59:00</td>\n",
       "      <td>3076.0</td>\n",
       "      <td>3005.0</td>\n",
       "      <td>365.0</td>\n",
       "      <td>One Way</td>\n",
       "      <td>Flex Pass</td>\n",
       "      <td>0.624177</td>\n",
       "    </tr>\n",
       "    <tr>\n",
       "      <th>8</th>\n",
       "      <td>2880</td>\n",
       "      <td>2016-07-07 13:01:00</td>\n",
       "      <td>3031.0</td>\n",
       "      <td>3031.0</td>\n",
       "      <td>365.0</td>\n",
       "      <td>Round Trip</td>\n",
       "      <td>Flex Pass</td>\n",
       "      <td>0.000000</td>\n",
       "    </tr>\n",
       "    <tr>\n",
       "      <th>9</th>\n",
       "      <td>960</td>\n",
       "      <td>2016-07-07 13:01:00</td>\n",
       "      <td>3031.0</td>\n",
       "      <td>3078.0</td>\n",
       "      <td>30.0</td>\n",
       "      <td>One Way</td>\n",
       "      <td>Monthly Pass</td>\n",
       "      <td>1.556036</td>\n",
       "    </tr>\n",
       "    <tr>\n",
       "      <th>10</th>\n",
       "      <td>960</td>\n",
       "      <td>2016-07-07 13:02:00</td>\n",
       "      <td>3031.0</td>\n",
       "      <td>3047.0</td>\n",
       "      <td>365.0</td>\n",
       "      <td>One Way</td>\n",
       "      <td>Flex Pass</td>\n",
       "      <td>0.864494</td>\n",
       "    </tr>\n",
       "    <tr>\n",
       "      <th>11</th>\n",
       "      <td>720</td>\n",
       "      <td>2016-07-07 13:03:00</td>\n",
       "      <td>3063.0</td>\n",
       "      <td>3005.0</td>\n",
       "      <td>30.0</td>\n",
       "      <td>One Way</td>\n",
       "      <td>Monthly Pass</td>\n",
       "      <td>0.359644</td>\n",
       "    </tr>\n",
       "    <tr>\n",
       "      <th>12</th>\n",
       "      <td>360</td>\n",
       "      <td>2016-07-07 13:03:00</td>\n",
       "      <td>3042.0</td>\n",
       "      <td>3030.0</td>\n",
       "      <td>30.0</td>\n",
       "      <td>One Way</td>\n",
       "      <td>Monthly Pass</td>\n",
       "      <td>0.326241</td>\n",
       "    </tr>\n",
       "    <tr>\n",
       "      <th>13</th>\n",
       "      <td>120</td>\n",
       "      <td>2016-07-07 13:04:00</td>\n",
       "      <td>3018.0</td>\n",
       "      <td>3018.0</td>\n",
       "      <td>30.0</td>\n",
       "      <td>Round Trip</td>\n",
       "      <td>Monthly Pass</td>\n",
       "      <td>0.000000</td>\n",
       "    </tr>\n",
       "    <tr>\n",
       "      <th>14</th>\n",
       "      <td>660</td>\n",
       "      <td>2016-07-07 13:04:00</td>\n",
       "      <td>3054.0</td>\n",
       "      <td>3030.0</td>\n",
       "      <td>30.0</td>\n",
       "      <td>One Way</td>\n",
       "      <td>Monthly Pass</td>\n",
       "      <td>0.965416</td>\n",
       "    </tr>\n",
       "  </tbody>\n",
       "</table>\n",
       "</div>"
      ],
      "text/plain": [
       "    Duration          Start Time  Starting Station ID  Ending Station ID  \\\n",
       "0        180 2016-07-07 04:17:00               3014.0             3014.0   \n",
       "1       1980 2016-07-07 06:00:00               3014.0             3014.0   \n",
       "2        300 2016-07-07 10:32:00               3016.0             3016.0   \n",
       "3      10860 2016-07-07 10:37:00               3016.0             3016.0   \n",
       "4        420 2016-07-07 12:51:00               3032.0             3032.0   \n",
       "5        780 2016-07-07 12:51:00               3021.0             3054.0   \n",
       "6        600 2016-07-07 12:54:00               3022.0             3014.0   \n",
       "7        600 2016-07-07 12:59:00               3076.0             3005.0   \n",
       "8       2880 2016-07-07 13:01:00               3031.0             3031.0   \n",
       "9        960 2016-07-07 13:01:00               3031.0             3078.0   \n",
       "10       960 2016-07-07 13:02:00               3031.0             3047.0   \n",
       "11       720 2016-07-07 13:03:00               3063.0             3005.0   \n",
       "12       360 2016-07-07 13:03:00               3042.0             3030.0   \n",
       "13       120 2016-07-07 13:04:00               3018.0             3018.0   \n",
       "14       660 2016-07-07 13:04:00               3054.0             3030.0   \n",
       "\n",
       "    Plan Duration Trip Route Category Passholder Type  Distance  \n",
       "0            30.0          Round Trip    Monthly Pass  0.000000  \n",
       "1            30.0          Round Trip    Monthly Pass  0.000000  \n",
       "2           365.0          Round Trip       Flex Pass  0.000000  \n",
       "3           365.0          Round Trip       Flex Pass  0.000000  \n",
       "4             0.0          Round Trip         Walk-up  0.000000  \n",
       "5            30.0             One Way    Monthly Pass  0.441488  \n",
       "6            30.0             One Way    Monthly Pass  0.763951  \n",
       "7           365.0             One Way       Flex Pass  0.624177  \n",
       "8           365.0          Round Trip       Flex Pass  0.000000  \n",
       "9            30.0             One Way    Monthly Pass  1.556036  \n",
       "10          365.0             One Way       Flex Pass  0.864494  \n",
       "11           30.0             One Way    Monthly Pass  0.359644  \n",
       "12           30.0             One Way    Monthly Pass  0.326241  \n",
       "13           30.0          Round Trip    Monthly Pass  0.000000  \n",
       "14           30.0             One Way    Monthly Pass  0.965416  "
      ]
     },
     "execution_count": 4,
     "metadata": {},
     "output_type": "execute_result"
    }
   ],
   "source": [
    "data['Distance'] = data.apply(\n",
    "    (lambda row: geopy.distance.distance(\n",
    "        (row['Starting Station Latitude'], row['Starting Station Longitude']),\n",
    "        (row['Ending Station Latitude'], row['Ending Station Longitude'])).miles), axis=1)\n",
    "ndata = data.drop(['Starting Station Latitude','Starting Station Longitude',\n",
    "                   'Ending Station Latitude','Ending Station Longitude'], axis=1)\n",
    "ndata.iloc[:15, :]"
   ]
  },
  {
   "cell_type": "code",
   "execution_count": 47,
   "metadata": {
    "scrolled": true
   },
   "outputs": [
    {
     "data": {
      "text/plain": [
       "Monthly Pass    80519\n",
       "Walk-up         40743\n",
       "Flex Pass        9457\n",
       "Name: Passholder Type, dtype: int64"
      ]
     },
     "execution_count": 47,
     "metadata": {},
     "output_type": "execute_result"
    }
   ],
   "source": [
    "# ndata['Passholder Type'].value_counts() # Number of each passholder types\n",
    "mask = ndata[ndata['Passholder Type'] == 'Staff Annual'].index\n",
    "ndata.drop(mask,inplace=True)\n",
    "ndata['Passholder Type'].value_counts()"
   ]
  },
  {
   "cell_type": "code",
   "execution_count": 48,
   "metadata": {},
   "outputs": [
    {
     "name": "stdout",
     "output_type": "stream",
     "text": [
      "Empty DataFrame\n",
      "Columns: [Duration, Start Time, Starting Station ID, Ending Station ID, Plan Duration, Trip Route Category, Passholder Type, Distance, Duration_min, Price1, Price2, Price3, Passholder Type_1, Trip Route Category_1]\n",
      "Index: []\n"
     ]
    }
   ],
   "source": [
    "print(ndata[(ndata['Passholder Type'] == 'Flex Pass') & (ndata['Plan Duration'] == 30.0)])\n",
    "# We can consider Flex Passes as Annual Passes."
   ]
  },
  {
   "cell_type": "code",
   "execution_count": 49,
   "metadata": {},
   "outputs": [
    {
     "data": {
      "text/plain": [
       "Duration                        float64\n",
       "Start Time               datetime64[ns]\n",
       "Starting Station ID            category\n",
       "Ending Station ID              category\n",
       "Plan Duration                  category\n",
       "Trip Route Category            category\n",
       "Passholder Type                category\n",
       "Distance                        float64\n",
       "Duration_min                    float64\n",
       "Price1                          float64\n",
       "Price2                          float64\n",
       "Price3                          float64\n",
       "Passholder Type_1                 int64\n",
       "Trip Route Category_1             int64\n",
       "dtype: object"
      ]
     },
     "execution_count": 49,
     "metadata": {},
     "output_type": "execute_result"
    }
   ],
   "source": [
    "ndata['Duration'] = ndata['Duration'].astype('float')\n",
    "ndata['Starting Station ID'] = ndata['Starting Station ID'].astype('category')\n",
    "ndata['Ending Station ID'] = ndata['Ending Station ID'].astype('category')\n",
    "ndata['Plan Duration'] = ndata['Plan Duration'].astype('category')\n",
    "ndata['Trip Route Category'] = ndata['Trip Route Category'].astype('category')\n",
    "ndata['Passholder Type'] = ndata['Passholder Type'].astype('category')\n",
    "ndata.dtypes"
   ]
  },
  {
   "cell_type": "code",
   "execution_count": 50,
   "metadata": {},
   "outputs": [
    {
     "data": {
      "text/plain": [
       "(3030.0, 3014.0)"
      ]
     },
     "execution_count": 50,
     "metadata": {},
     "output_type": "execute_result"
    }
   ],
   "source": [
    "temp = pd.crosstab(ndata['Starting Station ID'],ndata['Ending Station ID']) # Most popular trip\n",
    "temp.stack().index[np.argmax(temp.values)]"
   ]
  },
  {
   "cell_type": "code",
   "execution_count": 51,
   "metadata": {},
   "outputs": [
    {
     "data": {
      "text/html": [
       "<div>\n",
       "<style scoped>\n",
       "    .dataframe tbody tr th:only-of-type {\n",
       "        vertical-align: middle;\n",
       "    }\n",
       "\n",
       "    .dataframe tbody tr th {\n",
       "        vertical-align: top;\n",
       "    }\n",
       "\n",
       "    .dataframe thead th {\n",
       "        text-align: right;\n",
       "    }\n",
       "</style>\n",
       "<table border=\"1\" class=\"dataframe\">\n",
       "  <thead>\n",
       "    <tr style=\"text-align: right;\">\n",
       "      <th>Ending Station ID</th>\n",
       "      <th>3005.0</th>\n",
       "      <th>3006.0</th>\n",
       "      <th>3007.0</th>\n",
       "      <th>3008.0</th>\n",
       "      <th>3009.0</th>\n",
       "      <th>3010.0</th>\n",
       "      <th>3011.0</th>\n",
       "      <th>3014.0</th>\n",
       "      <th>3016.0</th>\n",
       "      <th>3018.0</th>\n",
       "      <th>3019.0</th>\n",
       "      <th>3020.0</th>\n",
       "      <th>3021.0</th>\n",
       "      <th>3022.0</th>\n",
       "      <th>3023.0</th>\n",
       "    </tr>\n",
       "    <tr>\n",
       "      <th>Starting Station ID</th>\n",
       "      <th></th>\n",
       "      <th></th>\n",
       "      <th></th>\n",
       "      <th></th>\n",
       "      <th></th>\n",
       "      <th></th>\n",
       "      <th></th>\n",
       "      <th></th>\n",
       "      <th></th>\n",
       "      <th></th>\n",
       "      <th></th>\n",
       "      <th></th>\n",
       "      <th></th>\n",
       "      <th></th>\n",
       "      <th></th>\n",
       "    </tr>\n",
       "  </thead>\n",
       "  <tbody>\n",
       "    <tr>\n",
       "      <th>3019.0</th>\n",
       "      <td>53</td>\n",
       "      <td>107</td>\n",
       "      <td>11</td>\n",
       "      <td>22</td>\n",
       "      <td>0</td>\n",
       "      <td>9</td>\n",
       "      <td>30</td>\n",
       "      <td>84</td>\n",
       "      <td>10</td>\n",
       "      <td>23</td>\n",
       "      <td>133</td>\n",
       "      <td>24</td>\n",
       "      <td>11</td>\n",
       "      <td>2</td>\n",
       "      <td>12</td>\n",
       "    </tr>\n",
       "    <tr>\n",
       "      <th>3020.0</th>\n",
       "      <td>17</td>\n",
       "      <td>14</td>\n",
       "      <td>3</td>\n",
       "      <td>1</td>\n",
       "      <td>0</td>\n",
       "      <td>2</td>\n",
       "      <td>8</td>\n",
       "      <td>11</td>\n",
       "      <td>0</td>\n",
       "      <td>3</td>\n",
       "      <td>20</td>\n",
       "      <td>132</td>\n",
       "      <td>1</td>\n",
       "      <td>2</td>\n",
       "      <td>0</td>\n",
       "    </tr>\n",
       "    <tr>\n",
       "      <th>3021.0</th>\n",
       "      <td>42</td>\n",
       "      <td>22</td>\n",
       "      <td>10</td>\n",
       "      <td>6</td>\n",
       "      <td>0</td>\n",
       "      <td>1</td>\n",
       "      <td>0</td>\n",
       "      <td>69</td>\n",
       "      <td>28</td>\n",
       "      <td>8</td>\n",
       "      <td>5</td>\n",
       "      <td>1</td>\n",
       "      <td>166</td>\n",
       "      <td>79</td>\n",
       "      <td>27</td>\n",
       "    </tr>\n",
       "    <tr>\n",
       "      <th>3022.0</th>\n",
       "      <td>130</td>\n",
       "      <td>28</td>\n",
       "      <td>76</td>\n",
       "      <td>16</td>\n",
       "      <td>0</td>\n",
       "      <td>1</td>\n",
       "      <td>1</td>\n",
       "      <td>129</td>\n",
       "      <td>22</td>\n",
       "      <td>13</td>\n",
       "      <td>4</td>\n",
       "      <td>1</td>\n",
       "      <td>110</td>\n",
       "      <td>449</td>\n",
       "      <td>33</td>\n",
       "    </tr>\n",
       "    <tr>\n",
       "      <th>3023.0</th>\n",
       "      <td>41</td>\n",
       "      <td>23</td>\n",
       "      <td>20</td>\n",
       "      <td>17</td>\n",
       "      <td>0</td>\n",
       "      <td>1</td>\n",
       "      <td>17</td>\n",
       "      <td>168</td>\n",
       "      <td>147</td>\n",
       "      <td>14</td>\n",
       "      <td>7</td>\n",
       "      <td>6</td>\n",
       "      <td>27</td>\n",
       "      <td>27</td>\n",
       "      <td>310</td>\n",
       "    </tr>\n",
       "  </tbody>\n",
       "</table>\n",
       "</div>"
      ],
      "text/plain": [
       "Ending Station ID    3005.0  3006.0  3007.0  3008.0  3009.0  3010.0  3011.0  \\\n",
       "Starting Station ID                                                           \n",
       "3019.0                   53     107      11      22       0       9      30   \n",
       "3020.0                   17      14       3       1       0       2       8   \n",
       "3021.0                   42      22      10       6       0       1       0   \n",
       "3022.0                  130      28      76      16       0       1       1   \n",
       "3023.0                   41      23      20      17       0       1      17   \n",
       "\n",
       "Ending Station ID    3014.0  3016.0  3018.0  3019.0  3020.0  3021.0  3022.0  \\\n",
       "Starting Station ID                                                           \n",
       "3019.0                   84      10      23     133      24      11       2   \n",
       "3020.0                   11       0       3      20     132       1       2   \n",
       "3021.0                   69      28       8       5       1     166      79   \n",
       "3022.0                  129      22      13       4       1     110     449   \n",
       "3023.0                  168     147      14       7       6      27      27   \n",
       "\n",
       "Ending Station ID    3023.0  \n",
       "Starting Station ID          \n",
       "3019.0                   12  \n",
       "3020.0                    0  \n",
       "3021.0                   27  \n",
       "3022.0                   33  \n",
       "3023.0                  310  "
      ]
     },
     "execution_count": 51,
     "metadata": {},
     "output_type": "execute_result"
    }
   ],
   "source": [
    "temp.iloc[10:15,:15] # The most popular trip counts"
   ]
  },
  {
   "cell_type": "code",
   "execution_count": 52,
   "metadata": {},
   "outputs": [
    {
     "data": {
      "text/plain": [
       "12636"
      ]
     },
     "execution_count": 52,
     "metadata": {},
     "output_type": "execute_result"
    }
   ],
   "source": [
    "len(ndata[ndata['Distance']==0]) # Number of Round-Trips"
   ]
  },
  {
   "cell_type": "markdown",
   "metadata": {},
   "source": [
    "### Check : What criteria customers are choosing each plan"
   ]
  },
  {
   "cell_type": "code",
   "execution_count": 54,
   "metadata": {},
   "outputs": [
    {
     "name": "stdout",
     "output_type": "stream",
     "text": [
      "                    Duration  Distance  Duration_min    Price1    Price2  \\\n",
      "Passholder Type                                                            \n",
      "Flex Pass        1066.689225  1.575642     17.778154  2.787059  1.447059   \n",
      "Monthly Pass      776.982824  4.261201     12.949714  2.505400  1.165400   \n",
      "Walk-up          2565.679994  1.016440     42.761333  4.244411  2.904411   \n",
      "\n",
      "                   Price3  Passholder Type_1  Trip Route Category_1  \n",
      "Passholder Type                                                      \n",
      "Flex Pass        1.617059                0.0               0.051073  \n",
      "Monthly Pass     1.335400                1.0               0.046014  \n",
      "Walk-up          3.074411                2.0               0.207324  \n"
     ]
    }
   ],
   "source": [
    "# Assume passengers are following the average duration minutes for each pass.\n",
    "ndata['Duration_min'] = np.floor(ndata['Duration']/60)\n",
    "print(ndata.groupby('Passholder Type').mean())"
   ]
  },
  {
   "cell_type": "code",
   "execution_count": 55,
   "metadata": {},
   "outputs": [
    {
     "name": "stdout",
     "output_type": "stream",
     "text": [
      "                 Duration  Distance  Duration_min    Price1    Price2  \\\n",
      "Passholder Type                                                         \n",
      "Flex Pass           600.0  0.707799          10.0  2.333333  0.993333   \n",
      "Monthly Pass        480.0  0.584102           8.0  2.216667  0.876667   \n",
      "Walk-up            1140.0  0.604373          19.0  2.858333  1.518333   \n",
      "\n",
      "                   Price3  Passholder Type_1  Trip Route Category_1  \n",
      "Passholder Type                                                      \n",
      "Flex Pass        1.163333                  0                      0  \n",
      "Monthly Pass     1.046667                  1                      0  \n",
      "Walk-up          1.688333                  2                      0  \n"
     ]
    }
   ],
   "source": [
    "print(ndata.groupby('Passholder Type').median())"
   ]
  },
  {
   "cell_type": "code",
   "execution_count": 109,
   "metadata": {},
   "outputs": [
    {
     "name": "stdout",
     "output_type": "stream",
     "text": [
      "Annual prob. is 0.23, monthly prob. is 0.32, daily prob. is 1.00\n",
      "Annual utility is 0.41, monthly utility is 0.58\n",
      "35.22504892367906\n"
     ]
    }
   ],
   "source": [
    "# Probability of taking a ride a day for each Pass\n",
    "prob_annual = 150/1.75/365\n",
    "prob_month = 17/1.75/30\n",
    "prob_daily = 1\n",
    "print(\"Annual prob. is %.2f, monthly prob. is %.2f, daily prob. is %.2f\"%(prob_annual,prob_month,prob_daily))\n",
    "\n",
    "# Minimum Utility for buying each Pass a day\n",
    "util_annual = (1.75*np.ceil(150/1.75))/365\n",
    "util_month = (1.75*np.ceil(17/1.75))/30\n",
    "util_daily = 1.75*2 # since the avergae min. is 42.67\n",
    "print(\"Annual utility is %.2f, monthly utility is %.2f\"%(util_annual,util_month))\n",
    "\n",
    "print(prob_annual*150)"
   ]
  },
  {
   "cell_type": "markdown",
   "metadata": {},
   "source": [
    "### Calculate the prices of every pass for classification learning "
   ]
  },
  {
   "cell_type": "code",
   "execution_count": 53,
   "metadata": {},
   "outputs": [],
   "source": [
    "ndata['Price1'] = 1.75 * (ndata['Duration_min']/30+1) # Price for Walk-up\n",
    "ndata['Price2'] = 1.75 * ndata['Duration_min']/30+0.41 # Price for Flex Pass\n",
    "ndata['Price3'] = 1.75 * ndata['Duration_min']/30+0.58 # Price for Monthly Pass"
   ]
  },
  {
   "cell_type": "markdown",
   "metadata": {},
   "source": [
    "### Random Forest Modeling for current price policy"
   ]
  },
  {
   "cell_type": "code",
   "execution_count": 74,
   "metadata": {},
   "outputs": [
    {
     "name": "stdout",
     "output_type": "stream",
     "text": [
      "{'Flex Pass': 0, 'Monthly Pass': 1, 'Walk-up': 2}\n",
      "{'One Way': 0, 'Round Trip': 1}\n"
     ]
    },
    {
     "data": {
      "text/plain": [
       "<matplotlib.axes._subplots.AxesSubplot at 0xa0f883c18>"
      ]
     },
     "execution_count": 74,
     "metadata": {},
     "output_type": "execute_result"
    },
    {
     "data": {
      "image/png": "[encoded data removed]",
      "text/plain": [
       "<matplotlib.figure.Figure at 0xa0e0caf28>"
      ]
     },
     "metadata": {},
     "output_type": "display_data"
    }
   ],
   "source": [
    "# Random Forest Classification\n",
    "from sklearn import preprocessing\n",
    "le1 = preprocessing.LabelEncoder()\n",
    "le1.fit(ndata['Passholder Type'])\n",
    "ndata['Passholder Type_1'] = le1.transform(ndata['Passholder Type'])\n",
    "keys1 = le1.classes_\n",
    "values1 = le1.transform(le1.classes_)\n",
    "dictionary1 = dict(zip(keys1, values1))\n",
    "print(dictionary1)\n",
    "\n",
    "le2 = preprocessing.LabelEncoder()\n",
    "le2.fit(ndata['Trip Route Category'])\n",
    "ndata['Trip Route Category_1'] = le2.transform(ndata['Trip Route Category'])\n",
    "keys2 = le2.classes_\n",
    "values2 = le2.transform(le2.classes_)\n",
    "dictionary2 = dict(zip(keys2, values2))\n",
    "print(dictionary2)\n",
    "\n",
    "le3 = preprocessing.LabelEncoder()\n",
    "le3.fit(ndata['Starting Station ID'])\n",
    "ndata['Starting Station ID_1'] = le3.transform(ndata['Starting Station ID'])\n",
    "keys3 = le3.classes_\n",
    "values3 = le3.transform(le3.classes_)\n",
    "dictionary3 = dict(zip(keys3, values3))\n",
    "\n",
    "le4 = preprocessing.LabelEncoder()\n",
    "le4.fit(ndata['Ending Station ID'])\n",
    "ndata['Ending Station ID_1'] = le4.transform(ndata['Ending Station ID'])\n",
    "keys4 = le4.classes_\n",
    "values4 = le4.transform(le4.classes_)\n",
    "dictionary4 = dict(zip(keys4, values4))\n",
    "\n",
    "import seaborn as sns\n",
    "sns.heatmap(ndata.corr())"
   ]
  },
  {
   "cell_type": "code",
   "execution_count": 77,
   "metadata": {},
   "outputs": [
    {
     "data": {
      "text/html": [
       "<div>\n",
       "<style scoped>\n",
       "    .dataframe tbody tr th:only-of-type {\n",
       "        vertical-align: middle;\n",
       "    }\n",
       "\n",
       "    .dataframe tbody tr th {\n",
       "        vertical-align: top;\n",
       "    }\n",
       "\n",
       "    .dataframe thead th {\n",
       "        text-align: right;\n",
       "    }\n",
       "</style>\n",
       "<table border=\"1\" class=\"dataframe\">\n",
       "  <thead>\n",
       "    <tr style=\"text-align: right;\">\n",
       "      <th></th>\n",
       "      <th>0</th>\n",
       "    </tr>\n",
       "  </thead>\n",
       "  <tbody>\n",
       "    <tr>\n",
       "      <th>0</th>\n",
       "      <td>Duration</td>\n",
       "    </tr>\n",
       "    <tr>\n",
       "      <th>1</th>\n",
       "      <td>Start Time</td>\n",
       "    </tr>\n",
       "    <tr>\n",
       "      <th>2</th>\n",
       "      <td>Starting Station ID</td>\n",
       "    </tr>\n",
       "    <tr>\n",
       "      <th>3</th>\n",
       "      <td>Ending Station ID</td>\n",
       "    </tr>\n",
       "    <tr>\n",
       "      <th>4</th>\n",
       "      <td>Plan Duration</td>\n",
       "    </tr>\n",
       "    <tr>\n",
       "      <th>5</th>\n",
       "      <td>Trip Route Category</td>\n",
       "    </tr>\n",
       "    <tr>\n",
       "      <th>6</th>\n",
       "      <td>Passholder Type</td>\n",
       "    </tr>\n",
       "    <tr>\n",
       "      <th>7</th>\n",
       "      <td>Distance</td>\n",
       "    </tr>\n",
       "    <tr>\n",
       "      <th>8</th>\n",
       "      <td>Duration_min</td>\n",
       "    </tr>\n",
       "    <tr>\n",
       "      <th>9</th>\n",
       "      <td>Price1</td>\n",
       "    </tr>\n",
       "    <tr>\n",
       "      <th>10</th>\n",
       "      <td>Price2</td>\n",
       "    </tr>\n",
       "    <tr>\n",
       "      <th>11</th>\n",
       "      <td>Price3</td>\n",
       "    </tr>\n",
       "    <tr>\n",
       "      <th>12</th>\n",
       "      <td>Passholder Type_1</td>\n",
       "    </tr>\n",
       "    <tr>\n",
       "      <th>13</th>\n",
       "      <td>Trip Route Category_1</td>\n",
       "    </tr>\n",
       "    <tr>\n",
       "      <th>14</th>\n",
       "      <td>Starting Station ID_1</td>\n",
       "    </tr>\n",
       "    <tr>\n",
       "      <th>15</th>\n",
       "      <td>Ending Station ID_1</td>\n",
       "    </tr>\n",
       "  </tbody>\n",
       "</table>\n",
       "</div>"
      ],
      "text/plain": [
       "                        0\n",
       "0                Duration\n",
       "1              Start Time\n",
       "2     Starting Station ID\n",
       "3       Ending Station ID\n",
       "4           Plan Duration\n",
       "5     Trip Route Category\n",
       "6         Passholder Type\n",
       "7                Distance\n",
       "8            Duration_min\n",
       "9                  Price1\n",
       "10                 Price2\n",
       "11                 Price3\n",
       "12      Passholder Type_1\n",
       "13  Trip Route Category_1\n",
       "14  Starting Station ID_1\n",
       "15    Ending Station ID_1"
      ]
     },
     "execution_count": 77,
     "metadata": {},
     "output_type": "execute_result"
    }
   ],
   "source": [
    "pd.DataFrame(ndata.columns)"
   ]
  },
  {
   "cell_type": "code",
   "execution_count": 78,
   "metadata": {},
   "outputs": [
    {
     "data": {
      "text/plain": [
       "Duration                        float64\n",
       "Start Time               datetime64[ns]\n",
       "Starting Station ID            category\n",
       "Ending Station ID              category\n",
       "Plan Duration                  category\n",
       "Trip Route Category            category\n",
       "Passholder Type                category\n",
       "Distance                        float64\n",
       "Duration_min                    float64\n",
       "Price1                          float64\n",
       "Price2                          float64\n",
       "Price3                          float64\n",
       "Passholder Type_1                 int64\n",
       "Trip Route Category_1             int64\n",
       "Starting Station ID_1             int64\n",
       "Ending Station ID_1               int64\n",
       "dtype: object"
      ]
     },
     "execution_count": 78,
     "metadata": {},
     "output_type": "execute_result"
    }
   ],
   "source": [
    "ndata.dtypes"
   ]
  },
  {
   "cell_type": "code",
   "execution_count": 79,
   "metadata": {},
   "outputs": [
    {
     "name": "stderr",
     "output_type": "stream",
     "text": [
      "/anaconda3/envs/yulenv/lib/python3.6/site-packages/sklearn/preprocessing/data.py:645: DataConversionWarning: Data with input dtype int64, float64 were all converted to float64 by StandardScaler.\n",
      "  return self.partial_fit(X, y)\n",
      "/anaconda3/envs/yulenv/lib/python3.6/site-packages/sklearn/base.py:464: DataConversionWarning: Data with input dtype int64, float64 were all converted to float64 by StandardScaler.\n",
      "  return self.fit(X, **fit_params).transform(X)\n",
      "/anaconda3/envs/yulenv/lib/python3.6/site-packages/ipykernel_launcher.py:12: DataConversionWarning: Data with input dtype int64, float64 were all converted to float64 by StandardScaler.\n",
      "  if sys.path[0] == '':\n"
     ]
    },
    {
     "name": "stdout",
     "output_type": "stream",
     "text": [
      "              precision    recall  f1-score   support\n",
      "\n",
      "           0       0.00      0.00      0.00      3120\n",
      "           1       0.73      0.90      0.80     26558\n",
      "           2       0.69      0.53      0.60     13460\n",
      "\n",
      "   micro avg       0.72      0.72      0.72     43138\n",
      "   macro avg       0.47      0.48      0.47     43138\n",
      "weighted avg       0.66      0.72      0.68     43138\n",
      "\n"
     ]
    },
    {
     "name": "stderr",
     "output_type": "stream",
     "text": [
      "/anaconda3/envs/yulenv/lib/python3.6/site-packages/sklearn/metrics/classification.py:1143: UndefinedMetricWarning: Precision and F-score are ill-defined and being set to 0.0 in labels with no predicted samples.\n",
      "  'precision', 'predicted', average, warn_for)\n"
     ]
    }
   ],
   "source": [
    "X = ndata.iloc[:, [7,9,10,11,13,14,15]]\n",
    "y = ndata.iloc[:, 12]\n",
    "\n",
    "# Splitting the dataset into the Training set and Test set\n",
    "from sklearn.model_selection import train_test_split\n",
    "X_train, X_test, y_train, y_test = train_test_split(X, y, test_size = 0.33, random_state = 0)\n",
    "\n",
    "# Feature Scaling\n",
    "from sklearn.preprocessing import StandardScaler\n",
    "sc = StandardScaler()\n",
    "X_train = sc.fit_transform(X_train)\n",
    "X_test = sc.transform(X_test)\n",
    "\n",
    "# Fitting Random Forest Classification to the Training set\n",
    "from sklearn.ensemble import AdaBoostClassifier\n",
    "classifier = AdaBoostClassifier(n_estimators = 500)\n",
    "classifier.fit(X_train, y_train)\n",
    "\n",
    "# Predicting the Test set results\n",
    "y_pred = classifier.predict(X_test)\n",
    "sc.get_params()\n",
    "from sklearn.metrics import classification_report\n",
    "print(classification_report(y_test,y_pred))"
   ]
  },
  {
   "cell_type": "code",
   "execution_count": 80,
   "metadata": {},
   "outputs": [
    {
     "name": "stdout",
     "output_type": "stream",
     "text": [
      "[[    0  2641   479]\n",
      " [    0 23856  2702]\n",
      " [    0  6278  7182]]\n"
     ]
    }
   ],
   "source": [
    "from sklearn.metrics import classification_report\n",
    "from sklearn.metrics import confusion_matrix\n",
    "print(confusion_matrix(y_test,y_pred))"
   ]
  },
  {
   "cell_type": "code",
   "execution_count": 101,
   "metadata": {},
   "outputs": [
    {
     "data": {
      "text/plain": [
       "1    32775\n",
       "2    10363\n",
       "Name: 0, dtype: int64"
      ]
     },
     "execution_count": 101,
     "metadata": {},
     "output_type": "execute_result"
    }
   ],
   "source": [
    "y_pred=pd.DataFrame(y_pred)\n",
    "y_pred[0].value_counts()"
   ]
  },
  {
   "cell_type": "markdown",
   "metadata": {},
   "source": [
    "### Adapting Random Forest Model for new price policies (1)"
   ]
  },
  {
   "cell_type": "code",
   "execution_count": 81,
   "metadata": {},
   "outputs": [
    {
     "name": "stdout",
     "output_type": "stream",
     "text": [
      "Annual utility is 0.42, monthly utility is 0.67\n"
     ]
    }
   ],
   "source": [
    "# New Minimum Utility for buying each Pass a day\n",
    "base_price = 4 ; base_time = 60 # in minutes\n",
    "\n",
    "util_annual = (base_price*np.ceil(150/base_price))/365\n",
    "util_month = (base_price*np.ceil(17/base_price))/30\n",
    "util_daily = base_price*2 # since the avergae min. is 42.67\n",
    "print(\"Annual utility is %.2f, monthly utility is %.2f\"%(util_annual,util_month))"
   ]
  },
  {
   "cell_type": "code",
   "execution_count": 82,
   "metadata": {},
   "outputs": [],
   "source": [
    "ndata_scenario1 = ndata.copy()\n",
    "ndata_scenario1['Price1'] = base_price * (np.floor(ndata_scenario1['Duration_min']/base_time)+1) # Price for Walk-up\n",
    "ndata_scenario1['Price2'] = base_price * np.floor((ndata_scenario1['Duration_min']/base_time)) + util_annual\n",
    "# Price for Flex Pass\n",
    "ndata_scenario1['Price3'] = base_price * np.floor((ndata_scenario1['Duration_min']/base_time)) + util_month\n",
    "# Price for Monthly Pass"
   ]
  },
  {
   "cell_type": "code",
   "execution_count": 83,
   "metadata": {},
   "outputs": [
    {
     "data": {
      "text/html": [
       "<div>\n",
       "<style scoped>\n",
       "    .dataframe tbody tr th:only-of-type {\n",
       "        vertical-align: middle;\n",
       "    }\n",
       "\n",
       "    .dataframe tbody tr th {\n",
       "        vertical-align: top;\n",
       "    }\n",
       "\n",
       "    .dataframe thead th {\n",
       "        text-align: right;\n",
       "    }\n",
       "</style>\n",
       "<table border=\"1\" class=\"dataframe\">\n",
       "  <thead>\n",
       "    <tr style=\"text-align: right;\">\n",
       "      <th></th>\n",
       "      <th>Duration</th>\n",
       "      <th>Start Time</th>\n",
       "      <th>Starting Station ID</th>\n",
       "      <th>Ending Station ID</th>\n",
       "      <th>Plan Duration</th>\n",
       "      <th>Trip Route Category</th>\n",
       "      <th>Passholder Type</th>\n",
       "      <th>Distance</th>\n",
       "      <th>Duration_min</th>\n",
       "      <th>Price1</th>\n",
       "      <th>Price2</th>\n",
       "      <th>Price3</th>\n",
       "      <th>Passholder Type_1</th>\n",
       "      <th>Trip Route Category_1</th>\n",
       "      <th>Starting Station ID_1</th>\n",
       "      <th>Ending Station ID_1</th>\n",
       "    </tr>\n",
       "  </thead>\n",
       "  <tbody>\n",
       "    <tr>\n",
       "      <th>0</th>\n",
       "      <td>180.0</td>\n",
       "      <td>2016-07-07 04:17:00</td>\n",
       "      <td>3014.0</td>\n",
       "      <td>3014.0</td>\n",
       "      <td>30.0</td>\n",
       "      <td>Round Trip</td>\n",
       "      <td>Monthly Pass</td>\n",
       "      <td>0.0</td>\n",
       "      <td>3.0</td>\n",
       "      <td>4.0</td>\n",
       "      <td>0.416438</td>\n",
       "      <td>0.666667</td>\n",
       "      <td>1</td>\n",
       "      <td>1</td>\n",
       "      <td>7</td>\n",
       "      <td>7</td>\n",
       "    </tr>\n",
       "    <tr>\n",
       "      <th>1</th>\n",
       "      <td>1980.0</td>\n",
       "      <td>2016-07-07 06:00:00</td>\n",
       "      <td>3014.0</td>\n",
       "      <td>3014.0</td>\n",
       "      <td>30.0</td>\n",
       "      <td>Round Trip</td>\n",
       "      <td>Monthly Pass</td>\n",
       "      <td>0.0</td>\n",
       "      <td>33.0</td>\n",
       "      <td>4.0</td>\n",
       "      <td>0.416438</td>\n",
       "      <td>0.666667</td>\n",
       "      <td>1</td>\n",
       "      <td>1</td>\n",
       "      <td>7</td>\n",
       "      <td>7</td>\n",
       "    </tr>\n",
       "    <tr>\n",
       "      <th>2</th>\n",
       "      <td>300.0</td>\n",
       "      <td>2016-07-07 10:32:00</td>\n",
       "      <td>3016.0</td>\n",
       "      <td>3016.0</td>\n",
       "      <td>365.0</td>\n",
       "      <td>Round Trip</td>\n",
       "      <td>Flex Pass</td>\n",
       "      <td>0.0</td>\n",
       "      <td>5.0</td>\n",
       "      <td>4.0</td>\n",
       "      <td>0.416438</td>\n",
       "      <td>0.666667</td>\n",
       "      <td>0</td>\n",
       "      <td>1</td>\n",
       "      <td>8</td>\n",
       "      <td>8</td>\n",
       "    </tr>\n",
       "    <tr>\n",
       "      <th>3</th>\n",
       "      <td>10860.0</td>\n",
       "      <td>2016-07-07 10:37:00</td>\n",
       "      <td>3016.0</td>\n",
       "      <td>3016.0</td>\n",
       "      <td>365.0</td>\n",
       "      <td>Round Trip</td>\n",
       "      <td>Flex Pass</td>\n",
       "      <td>0.0</td>\n",
       "      <td>181.0</td>\n",
       "      <td>16.0</td>\n",
       "      <td>12.416438</td>\n",
       "      <td>12.666667</td>\n",
       "      <td>0</td>\n",
       "      <td>1</td>\n",
       "      <td>8</td>\n",
       "      <td>8</td>\n",
       "    </tr>\n",
       "    <tr>\n",
       "      <th>4</th>\n",
       "      <td>420.0</td>\n",
       "      <td>2016-07-07 12:51:00</td>\n",
       "      <td>3032.0</td>\n",
       "      <td>3032.0</td>\n",
       "      <td>0.0</td>\n",
       "      <td>Round Trip</td>\n",
       "      <td>Walk-up</td>\n",
       "      <td>0.0</td>\n",
       "      <td>7.0</td>\n",
       "      <td>4.0</td>\n",
       "      <td>0.416438</td>\n",
       "      <td>0.666667</td>\n",
       "      <td>2</td>\n",
       "      <td>1</td>\n",
       "      <td>23</td>\n",
       "      <td>23</td>\n",
       "    </tr>\n",
       "  </tbody>\n",
       "</table>\n",
       "</div>"
      ],
      "text/plain": [
       "   Duration          Start Time Starting Station ID Ending Station ID  \\\n",
       "0     180.0 2016-07-07 04:17:00              3014.0            3014.0   \n",
       "1    1980.0 2016-07-07 06:00:00              3014.0            3014.0   \n",
       "2     300.0 2016-07-07 10:32:00              3016.0            3016.0   \n",
       "3   10860.0 2016-07-07 10:37:00              3016.0            3016.0   \n",
       "4     420.0 2016-07-07 12:51:00              3032.0            3032.0   \n",
       "\n",
       "  Plan Duration Trip Route Category Passholder Type  Distance  Duration_min  \\\n",
       "0          30.0          Round Trip    Monthly Pass       0.0           3.0   \n",
       "1          30.0          Round Trip    Monthly Pass       0.0          33.0   \n",
       "2         365.0          Round Trip       Flex Pass       0.0           5.0   \n",
       "3         365.0          Round Trip       Flex Pass       0.0         181.0   \n",
       "4           0.0          Round Trip         Walk-up       0.0           7.0   \n",
       "\n",
       "   Price1     Price2     Price3  Passholder Type_1  Trip Route Category_1  \\\n",
       "0     4.0   0.416438   0.666667                  1                      1   \n",
       "1     4.0   0.416438   0.666667                  1                      1   \n",
       "2     4.0   0.416438   0.666667                  0                      1   \n",
       "3    16.0  12.416438  12.666667                  0                      1   \n",
       "4     4.0   0.416438   0.666667                  2                      1   \n",
       "\n",
       "   Starting Station ID_1  Ending Station ID_1  \n",
       "0                      7                    7  \n",
       "1                      7                    7  \n",
       "2                      8                    8  \n",
       "3                      8                    8  \n",
       "4                     23                   23  "
      ]
     },
     "execution_count": 83,
     "metadata": {},
     "output_type": "execute_result"
    }
   ],
   "source": [
    "ndata_scenario1.head()"
   ]
  },
  {
   "cell_type": "code",
   "execution_count": 102,
   "metadata": {},
   "outputs": [
    {
     "name": "stderr",
     "output_type": "stream",
     "text": [
      "/anaconda3/envs/yulenv/lib/python3.6/site-packages/sklearn/preprocessing/data.py:645: DataConversionWarning: Data with input dtype int64, float64 were all converted to float64 by StandardScaler.\n",
      "  return self.partial_fit(X, y)\n",
      "/anaconda3/envs/yulenv/lib/python3.6/site-packages/sklearn/base.py:464: DataConversionWarning: Data with input dtype int64, float64 were all converted to float64 by StandardScaler.\n",
      "  return self.fit(X, **fit_params).transform(X)\n",
      "/anaconda3/envs/yulenv/lib/python3.6/site-packages/ipykernel_launcher.py:10: DataConversionWarning: Data with input dtype int64, float64 were all converted to float64 by StandardScaler.\n",
      "  # Remove the CWD from sys.path while we load stuff.\n"
     ]
    },
    {
     "name": "stdout",
     "output_type": "stream",
     "text": [
      "              precision    recall  f1-score   support\n",
      "\n",
      "           0       0.00      0.00      0.00      3120\n",
      "           1       0.67      0.90      0.77     26558\n",
      "           2       0.59      0.33      0.43     13460\n",
      "\n",
      "   micro avg       0.66      0.66      0.66     43138\n",
      "   macro avg       0.42      0.41      0.40     43138\n",
      "weighted avg       0.60      0.66      0.61     43138\n",
      "\n",
      "[[    0  2699   421]\n",
      " [    0 23798  2760]\n",
      " [    0  8965  4495]]\n"
     ]
    },
    {
     "name": "stderr",
     "output_type": "stream",
     "text": [
      "/anaconda3/envs/yulenv/lib/python3.6/site-packages/sklearn/metrics/classification.py:1143: UndefinedMetricWarning: Precision and F-score are ill-defined and being set to 0.0 in labels with no predicted samples.\n",
      "  'precision', 'predicted', average, warn_for)\n"
     ]
    }
   ],
   "source": [
    "X1 = ndata_scenario1.iloc[:, [7,9,10,11,13,14,15]]\n",
    "y = ndata.iloc[:, 12]\n",
    "\n",
    "# Splitting the dataset into the Training set and Test set\n",
    "from sklearn.model_selection import train_test_split\n",
    "X1_train, X1_test, y_train, y_test = train_test_split(X1, y, test_size = 0.33, random_state = 0)\n",
    "\n",
    "sc = StandardScaler()\n",
    "X1_train = sc.fit_transform(X1_train)\n",
    "X1_test = sc.transform(X1_test)\n",
    "\n",
    "scenario1 = classifier.predict(X1_test)\n",
    "from sklearn.metrics import classification_report\n",
    "print(classification_report(y_test,scenario1))\n",
    "print(confusion_matrix(y_test,scenario1))"
   ]
  },
  {
   "cell_type": "code",
   "execution_count": 103,
   "metadata": {},
   "outputs": [
    {
     "data": {
      "text/plain": [
       "1    35462\n",
       "2     7676\n",
       "Name: 0, dtype: int64"
      ]
     },
     "execution_count": 103,
     "metadata": {},
     "output_type": "execute_result"
    }
   ],
   "source": [
    "scenario1=pd.DataFrame(scenario1)\n",
    "scenario1[0].value_counts()"
   ]
  },
  {
   "cell_type": "markdown",
   "metadata": {},
   "source": [
    "### Adapting Random Forest Model for new price policies (2)"
   ]
  },
  {
   "cell_type": "code",
   "execution_count": 104,
   "metadata": {},
   "outputs": [
    {
     "name": "stdout",
     "output_type": "stream",
     "text": [
      "Annual utility is 0.41, monthly utility is 0.57\n"
     ]
    },
    {
     "name": "stderr",
     "output_type": "stream",
     "text": [
      "/anaconda3/envs/yulenv/lib/python3.6/site-packages/sklearn/preprocessing/data.py:645: DataConversionWarning: Data with input dtype int64, float64 were all converted to float64 by StandardScaler.\n",
      "  return self.partial_fit(X, y)\n",
      "/anaconda3/envs/yulenv/lib/python3.6/site-packages/sklearn/base.py:464: DataConversionWarning: Data with input dtype int64, float64 were all converted to float64 by StandardScaler.\n",
      "  return self.fit(X, **fit_params).transform(X)\n",
      "/anaconda3/envs/yulenv/lib/python3.6/site-packages/ipykernel_launcher.py:25: DataConversionWarning: Data with input dtype int64, float64 were all converted to float64 by StandardScaler.\n"
     ]
    },
    {
     "name": "stdout",
     "output_type": "stream",
     "text": [
      "              precision    recall  f1-score   support\n",
      "\n",
      "           0       0.00      0.00      0.00      3120\n",
      "           1       0.74      0.86      0.80     26558\n",
      "           2       0.65      0.58      0.61     13460\n",
      "\n",
      "   micro avg       0.71      0.71      0.71     43138\n",
      "   macro avg       0.46      0.48      0.47     43138\n",
      "weighted avg       0.66      0.71      0.68     43138\n",
      "\n",
      "[[    0  2466   654]\n",
      " [    0 22903  3655]\n",
      " [    0  5603  7857]]\n"
     ]
    },
    {
     "name": "stderr",
     "output_type": "stream",
     "text": [
      "/anaconda3/envs/yulenv/lib/python3.6/site-packages/sklearn/metrics/classification.py:1143: UndefinedMetricWarning: Precision and F-score are ill-defined and being set to 0.0 in labels with no predicted samples.\n",
      "  'precision', 'predicted', average, warn_for)\n"
     ]
    }
   ],
   "source": [
    "# New Minimum Utility for buying each Pass a day\n",
    "base_price = 0.5 ; base_time = 10 # in minutes\n",
    "\n",
    "util_annual = (base_price*np.ceil(150/base_price))/365\n",
    "util_month = (base_price*np.ceil(17/base_price))/30\n",
    "util_daily = base_price*2 # since the avergae min. is 42.67\n",
    "print(\"Annual utility is %.2f, monthly utility is %.2f\"%(util_annual,util_month))\n",
    "\n",
    "ndata_scenario2 = ndata.copy()\n",
    "ndata_scenario2['Price1'] = base_price * (np.floor(ndata_scenario2['Duration_min']/base_time)+1) # Price for Walk-up\n",
    "ndata_scenario2['Price2'] = base_price * np.floor(ndata_scenario2['Duration_min']/base_time) + util_annual\n",
    "# Price for Flex Pass\n",
    "ndata_scenario2['Price3'] = base_price * np.floor(ndata_scenario2['Duration_min']/base_time) + util_month\n",
    "# Price for Monthly Pass\n",
    "\n",
    "X2 = ndata_scenario2.iloc[:, [7,9,10,11,13,14,15]]\n",
    "y = ndata.iloc[:, 12]\n",
    "\n",
    "# Splitting the dataset into the Training set and Test set\n",
    "from sklearn.model_selection import train_test_split\n",
    "X2_train, X2_test, y_train, y_test = train_test_split(X2, y, test_size = 0.33, random_state = 0)\n",
    "\n",
    "sc = StandardScaler()\n",
    "X2_train = sc.fit_transform(X2_train)\n",
    "X2_test = sc.transform(X2_test)\n",
    "\n",
    "scenario2 = classifier.predict(X2_test)\n",
    "from sklearn.metrics import classification_report\n",
    "print(classification_report(y_test,scenario2))\n",
    "print(confusion_matrix(y_test,scenario2))"
   ]
  },
  {
   "cell_type": "code",
   "execution_count": 105,
   "metadata": {},
   "outputs": [
    {
     "data": {
      "text/plain": [
       "1    30972\n",
       "2    12166\n",
       "Name: 0, dtype: int64"
      ]
     },
     "execution_count": 105,
     "metadata": {},
     "output_type": "execute_result"
    }
   ],
   "source": [
    "scenario2=pd.DataFrame(scenario2)\n",
    "scenario2[0].value_counts()"
   ]
  },
  {
   "cell_type": "markdown",
   "metadata": {},
   "source": [
    "### Adapting Random Forest Model for new price policies (3)"
   ]
  },
  {
   "cell_type": "code",
   "execution_count": 106,
   "metadata": {},
   "outputs": [
    {
     "name": "stdout",
     "output_type": "stream",
     "text": [
      "Annual utility is 0.41, monthly utility is 0.60\n"
     ]
    },
    {
     "name": "stderr",
     "output_type": "stream",
     "text": [
      "/anaconda3/envs/yulenv/lib/python3.6/site-packages/sklearn/preprocessing/data.py:645: DataConversionWarning: Data with input dtype int64, float64 were all converted to float64 by StandardScaler.\n",
      "  return self.partial_fit(X, y)\n",
      "/anaconda3/envs/yulenv/lib/python3.6/site-packages/sklearn/base.py:464: DataConversionWarning: Data with input dtype int64, float64 were all converted to float64 by StandardScaler.\n",
      "  return self.fit(X, **fit_params).transform(X)\n",
      "/anaconda3/envs/yulenv/lib/python3.6/site-packages/ipykernel_launcher.py:25: DataConversionWarning: Data with input dtype int64, float64 were all converted to float64 by StandardScaler.\n"
     ]
    },
    {
     "name": "stdout",
     "output_type": "stream",
     "text": [
      "              precision    recall  f1-score   support\n",
      "\n",
      "           0       0.00      0.00      0.00      3120\n",
      "           1       0.71      0.91      0.80     26558\n",
      "           2       0.70      0.48      0.57     13460\n",
      "\n",
      "   micro avg       0.71      0.71      0.71     43138\n",
      "   macro avg       0.47      0.46      0.46     43138\n",
      "weighted avg       0.66      0.71      0.67     43138\n",
      "\n",
      "[[    0  2692   428]\n",
      " [    0 24202  2356]\n",
      " [    0  7032  6428]]\n"
     ]
    },
    {
     "name": "stderr",
     "output_type": "stream",
     "text": [
      "/anaconda3/envs/yulenv/lib/python3.6/site-packages/sklearn/metrics/classification.py:1143: UndefinedMetricWarning: Precision and F-score are ill-defined and being set to 0.0 in labels with no predicted samples.\n",
      "  'precision', 'predicted', average, warn_for)\n"
     ]
    }
   ],
   "source": [
    "# New Minimum Utility for buying each Pass a day\n",
    "base_price = 1.5 ; base_time = 20 # in minutes\n",
    "\n",
    "util_annual = (base_price*np.ceil(150/base_price))/365\n",
    "util_month = (base_price*np.ceil(17/base_price))/30\n",
    "util_daily = base_price*2 # since the avergae min. is 42.67\n",
    "print(\"Annual utility is %.2f, monthly utility is %.2f\"%(util_annual,util_month))\n",
    "\n",
    "ndata_scenario3 = ndata.copy()\n",
    "ndata_scenario3['Price1'] = base_price * (np.floor(ndata_scenario3['Duration_min']/base_time)+1) # Price for Walk-up\n",
    "ndata_scenario3['Price2'] = base_price * np.floor(ndata_scenario3['Duration_min']/base_time) + util_annual\n",
    "# Price for Flex Pass\n",
    "ndata_scenario3['Price3'] = base_price * np.floor(ndata_scenario3['Duration_min']/base_time) + util_month\n",
    "# Price for Monthly Pass\n",
    "\n",
    "X3 = ndata_scenario3.iloc[:, [7,9,10,11,13,14,15]]\n",
    "y = ndata.iloc[:, 12]\n",
    "\n",
    "# Splitting the dataset into the Training set and Test set\n",
    "from sklearn.model_selection import train_test_split\n",
    "X3_train, X3_test, y_train, y_test = train_test_split(X3, y, test_size = 0.33, random_state = 0)\n",
    "\n",
    "sc = StandardScaler()\n",
    "X3_train = sc.fit_transform(X3_train)\n",
    "X3_test = sc.transform(X3_test)\n",
    "\n",
    "scenario3 = classifier.predict(X3_test)\n",
    "from sklearn.metrics import classification_report\n",
    "print(classification_report(y_test,scenario3))\n",
    "print(confusion_matrix(y_test,scenario3))"
   ]
  },
  {
   "cell_type": "code",
   "execution_count": 107,
   "metadata": {},
   "outputs": [
    {
     "data": {
      "text/plain": [
       "1    33926\n",
       "2     9212\n",
       "Name: 0, dtype: int64"
      ]
     },
     "execution_count": 107,
     "metadata": {},
     "output_type": "execute_result"
    }
   ],
   "source": [
    "scenario3=pd.DataFrame(scenario3)\n",
    "scenario3[0].value_counts()"
   ]
  },
  {
   "cell_type": "markdown",
   "metadata": {},
   "source": []
  },
  {
   "cell_type": "code",
   "execution_count": 111,
   "metadata": {},
   "outputs": [
    {
     "name": "stdout",
     "output_type": "stream",
     "text": [
      "Annual utility is 0.41, monthly utility is 0.57\n"
     ]
    },
    {
     "name": "stderr",
     "output_type": "stream",
     "text": [
      "/anaconda3/envs/yulenv/lib/python3.6/site-packages/sklearn/preprocessing/data.py:645: DataConversionWarning: Data with input dtype int64, float64 were all converted to float64 by StandardScaler.\n",
      "  return self.partial_fit(X, y)\n",
      "/anaconda3/envs/yulenv/lib/python3.6/site-packages/sklearn/base.py:464: DataConversionWarning: Data with input dtype int64, float64 were all converted to float64 by StandardScaler.\n",
      "  return self.fit(X, **fit_params).transform(X)\n",
      "/anaconda3/envs/yulenv/lib/python3.6/site-packages/ipykernel_launcher.py:25: DataConversionWarning: Data with input dtype int64, float64 were all converted to float64 by StandardScaler.\n"
     ]
    },
    {
     "name": "stdout",
     "output_type": "stream",
     "text": [
      "              precision    recall  f1-score   support\n",
      "\n",
      "           0       0.00      0.00      0.00      3120\n",
      "           1       0.69      0.95      0.80     26558\n",
      "           2       0.75      0.38      0.50     13460\n",
      "\n",
      "   micro avg       0.70      0.70      0.70     43138\n",
      "   macro avg       0.48      0.44      0.43     43138\n",
      "weighted avg       0.66      0.70      0.65     43138\n",
      "\n",
      "[[    0  2839   281]\n",
      " [    0 25177  1381]\n",
      " [    0  8386  5074]]\n"
     ]
    },
    {
     "name": "stderr",
     "output_type": "stream",
     "text": [
      "/anaconda3/envs/yulenv/lib/python3.6/site-packages/sklearn/metrics/classification.py:1143: UndefinedMetricWarning: Precision and F-score are ill-defined and being set to 0.0 in labels with no predicted samples.\n",
      "  'precision', 'predicted', average, warn_for)\n"
     ]
    }
   ],
   "source": [
    "# New Minimum Utility for buying each Pass a day\n",
    "base_price = 1 ; base_time = 15 # in minutes\n",
    "\n",
    "util_annual = (base_price*np.ceil(150/base_price))/365\n",
    "util_month = (base_price*np.ceil(17/base_price))/30\n",
    "util_daily = base_price*2 # since the avergae min. is 42.67\n",
    "print(\"Annual utility is %.2f, monthly utility is %.2f\"%(util_annual,util_month))\n",
    "\n",
    "ndata_scenario3 = ndata.copy()\n",
    "ndata_scenario3['Price1'] = base_price * (np.floor(ndata_scenario3['Duration_min']/base_time)+1) # Price for Walk-up\n",
    "ndata_scenario3['Price2'] = base_price * np.maximum(0,(np.floor(ndata_scenario3['Duration_min']/base_time)-1)) + util_annual\n",
    "# Price for Flex Pass\n",
    "ndata_scenario3['Price3'] = base_price * np.maximum(0,(np.floor(ndata_scenario3['Duration_min']/base_time)-1)) + util_month\n",
    "# Price for Monthly Pass\n",
    "\n",
    "X3 = ndata_scenario3.iloc[:, [7,9,10,11,13,14,15]]\n",
    "y = ndata.iloc[:, 12]\n",
    "\n",
    "# Splitting the dataset into the Training set and Test set\n",
    "from sklearn.model_selection import train_test_split\n",
    "X3_train, X3_test, y_train, y_test = train_test_split(X3, y, test_size = 0.33, random_state = 0)\n",
    "\n",
    "sc = StandardScaler()\n",
    "X3_train = sc.fit_transform(X3_train)\n",
    "X3_test = sc.transform(X3_test)\n",
    "\n",
    "scenario3 = classifier.predict(X3_test)\n",
    "from sklearn.metrics import classification_report\n",
    "print(classification_report(y_test,scenario3))\n",
    "print(confusion_matrix(y_test,scenario3))"
   ]
  },
  {
   "cell_type": "code",
   "execution_count": 112,
   "metadata": {},
   "outputs": [
    {
     "data": {
      "text/plain": [
       "1    36402\n",
       "2     6736\n",
       "Name: 0, dtype: int64"
      ]
     },
     "execution_count": 112,
     "metadata": {},
     "output_type": "execute_result"
    }
   ],
   "source": [
    "scenario3=pd.DataFrame(scenario3)\n",
    "scenario3[0].value_counts()"
   ]
  },
  {
   "cell_type": "markdown",
   "metadata": {},
   "source": []
  },
  {
   "cell_type": "code",
   "execution_count": 114,
   "metadata": {},
   "outputs": [
    {
     "name": "stdout",
     "output_type": "stream",
     "text": [
      "Annual utility is 0.41, monthly utility is 0.67\n"
     ]
    },
    {
     "name": "stderr",
     "output_type": "stream",
     "text": [
      "/anaconda3/envs/yulenv/lib/python3.6/site-packages/sklearn/preprocessing/data.py:645: DataConversionWarning: Data with input dtype int64, float64 were all converted to float64 by StandardScaler.\n",
      "  return self.partial_fit(X, y)\n",
      "/anaconda3/envs/yulenv/lib/python3.6/site-packages/sklearn/base.py:464: DataConversionWarning: Data with input dtype int64, float64 were all converted to float64 by StandardScaler.\n",
      "  return self.fit(X, **fit_params).transform(X)\n",
      "/anaconda3/envs/yulenv/lib/python3.6/site-packages/ipykernel_launcher.py:25: DataConversionWarning: Data with input dtype int64, float64 were all converted to float64 by StandardScaler.\n"
     ]
    },
    {
     "name": "stdout",
     "output_type": "stream",
     "text": [
      "              precision    recall  f1-score   support\n",
      "\n",
      "           0       0.00      0.00      0.00      3120\n",
      "           1       0.69      0.95      0.80     26558\n",
      "           2       0.75      0.38      0.50     13460\n",
      "\n",
      "   micro avg       0.70      0.70      0.70     43138\n",
      "   macro avg       0.48      0.44      0.43     43138\n",
      "weighted avg       0.66      0.70      0.65     43138\n",
      "\n",
      "[[    0  2839   281]\n",
      " [    0 25177  1381]\n",
      " [    0  8386  5074]]\n"
     ]
    },
    {
     "name": "stderr",
     "output_type": "stream",
     "text": [
      "/anaconda3/envs/yulenv/lib/python3.6/site-packages/sklearn/metrics/classification.py:1143: UndefinedMetricWarning: Precision and F-score are ill-defined and being set to 0.0 in labels with no predicted samples.\n",
      "  'precision', 'predicted', average, warn_for)\n"
     ]
    }
   ],
   "source": [
    "# New Minimum Utility for buying each Pass a day\n",
    "base_price = 10 ; base_time = 15 # in minutes\n",
    "\n",
    "util_annual = (base_price*np.ceil(150/base_price))/365\n",
    "util_month = (base_price*np.ceil(17/base_price))/30\n",
    "util_daily = base_price*2 # since the avergae min. is 42.67\n",
    "print(\"Annual utility is %.2f, monthly utility is %.2f\"%(util_annual,util_month))\n",
    "\n",
    "ndata_scenario3 = ndata.copy()\n",
    "ndata_scenario3['Price1'] = base_price * (np.floor(ndata_scenario3['Duration_min']/base_time)+1) # Price for Walk-up\n",
    "ndata_scenario3['Price2'] = base_price * np.maximum(0,(np.floor(ndata_scenario3['Duration_min']/base_time)-1)) + util_annual\n",
    "# Price for Flex Pass\n",
    "ndata_scenario3['Price3'] = base_price * np.maximum(0,(np.floor(ndata_scenario3['Duration_min']/base_time)-1)) + util_month\n",
    "# Price for Monthly Pass\n",
    "\n",
    "X3 = ndata_scenario3.iloc[:, [7,9,10,11,13,14,15]]\n",
    "y = ndata.iloc[:, 12]\n",
    "bn\n",
    "# Splitting the dataset into the Training set and Test set\n",
    "from sklearn.model_selection import train_test_split\n",
    "X3_train, X3_test, y_train, y_test = train_test_split(X3, y, test_size = 0.33, random_state = 0)\n",
    "\n",
    "sc = StandardScaler()\n",
    "X3_train = sc.fit_transform(X3_train)\n",
    "X3_test = sc.transform(X3_test)\n",
    "\n",
    "scenario3 = classifier.predict(X3_test)\n",
    "from sklearn.metrics import classification_report\n",
    "print(classification_report(y_test,scenario3))\n",
    "print(confusion_matrix(y_test,scenario3))"
   ]
  }
 ],
 "metadata": {
  "kernelspec": {
   "display_name": "Python 3",
   "language": "python",
   "name": "python3"
  },
  "language_info": {
   "codemirror_mode": {
    "name": "ipython",
    "version": 3
   },
   "file_extension": ".py",
   "mimetype": "text/x-python",
   "name": "python",
   "nbconvert_exporter": "python",
   "pygments_lexer": "ipython3",
   "version": "3.6.8"
  }
 },
 "nbformat": 4,
 "nbformat_minor": 2
}
